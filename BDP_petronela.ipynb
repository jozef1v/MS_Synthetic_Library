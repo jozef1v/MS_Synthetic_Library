{
  "nbformat": 4,
  "nbformat_minor": 0,
  "metadata": {
    "colab": {
      "provenance": [],
      "toc_visible": true
    },
    "kernelspec": {
      "name": "python3",
      "display_name": "Python 3"
    },
    "language_info": {
      "name": "python"
    }
  },
  "cells": [
    {
      "cell_type": "code",
      "execution_count": 97,
      "metadata": {
        "id": "hPQuAUiWU7Tj",
        "colab": {
          "base_uri": "https://localhost:8080/"
        },
        "outputId": "68ffb8ea-8770-44cc-cfd6-2eba94af689d"
      },
      "outputs": [
        {
          "output_type": "stream",
          "name": "stdout",
          "text": [
            "Drive already mounted at /content/drive; to attempt to forcibly remount, call drive.mount(\"/content/drive\", force_remount=True).\n"
          ]
        }
      ],
      "source": [
        "from google.colab import drive\n",
        "drive.mount('/content/drive')"
      ]
    },
    {
      "cell_type": "code",
      "source": [
        "%cd /content/drive/MyDrive/Colab Notebooks"
      ],
      "metadata": {
        "colab": {
          "base_uri": "https://localhost:8080/"
        },
        "id": "ZqP5iujoX6ux",
        "outputId": "184bfa53-73f4-4a21-efae-fee264baea4f"
      },
      "execution_count": 98,
      "outputs": [
        {
          "output_type": "stream",
          "name": "stdout",
          "text": [
            "/content/drive/MyDrive/Colab Notebooks\n"
          ]
        }
      ]
    },
    {
      "cell_type": "code",
      "source": [
        "%ls"
      ],
      "metadata": {
        "colab": {
          "base_uri": "https://localhost:8080/"
        },
        "id": "X6jvovJ5X83o",
        "outputId": "922407a1-0646-4087-ee82-022117e28caa"
      },
      "execution_count": 99,
      "outputs": [
        {
          "output_type": "stream",
          "name": "stdout",
          "text": [
            " barcode_search_results.json         \u001b[0m\u001b[01;34mdata\u001b[0m/\n",
            " barTPvsFP.png                       \u001b[01;34mPMSU\u001b[0m/\n",
            " barTPvsFPRelRank.png                \u001b[01;34mStaršie\u001b[0m/\n",
            " \u001b[01;34mBDP\u001b[0m/                                synthetic_search_results.json\n",
            "'Copy of BDP_jozef'                  syntTPvsFP.png\n",
            "'Copy of BDP_petronelka (1).ipynb'   syntTPvsFPRelRank.png\n",
            "'Copy of BDP_petronelka.ipynb'\n"
          ]
        }
      ]
    },
    {
      "cell_type": "code",
      "source": [
        "import pandas as pd\n",
        "import json\n",
        "import numpy as np\n",
        "import matplotlib.pyplot as plt\n",
        "from itertools import islice"
      ],
      "metadata": {
        "id": "fvtmjg-pXyX7"
      },
      "execution_count": 100,
      "outputs": []
    },
    {
      "cell_type": "code",
      "source": [
        "barcode_df = pd.read_json(\"barcode_search_results.json\")\n",
        "synthetic_df = pd.read_json(\"synthetic_search_results.json\")\n",
        "#barcode_df.head()\n",
        "#synthetic_df.head()"
      ],
      "metadata": {
        "id": "TD4Pi4OHYwjp"
      },
      "execution_count": 101,
      "outputs": []
    },
    {
      "cell_type": "markdown",
      "source": [
        "**Results**"
      ],
      "metadata": {
        "id": "Kf8nYMAmWAVW"
      }
    },
    {
      "cell_type": "code",
      "source": [
        "#select .json file you want to open\n",
        "with open('synthetic_search_results.json') as data_file:    \n",
        "    data = json.load(data_file)   "
      ],
      "metadata": {
        "id": "7eJDzfulcoIJ"
      },
      "execution_count": 102,
      "outputs": []
    },
    {
      "cell_type": "code",
      "source": [
        "#data_norm_hits = pd.json_normalize(data,record_path=['records','spectrumCollections','spectra','hits'])"
      ],
      "metadata": {
        "id": "57LlQcAycLej"
      },
      "execution_count": 103,
      "outputs": []
    },
    {
      "cell_type": "code",
      "source": [
        "data_norm = pd.json_normalize(data,record_path=['records'])"
      ],
      "metadata": {
        "id": "GEfcJPUgWJ2t"
      },
      "execution_count": 104,
      "outputs": []
    },
    {
      "cell_type": "markdown",
      "source": [
        "Create a binary column of whether the hit is true-positive or false-positive"
      ],
      "metadata": {
        "id": "kmHSMYjeXAVZ"
      }
    },
    {
      "cell_type": "code",
      "source": [
        "x = []\n",
        "\n",
        "for i in range(len(data_norm)):\n",
        "  #compute number of hits for each record\n",
        "  num_of_hits = len(data['records'][i]['spectrumCollections'][0]['spectra'][0]['hits'])\n",
        "  for k in range(num_of_hits):\n",
        "    #extract hits corresponding to each record\n",
        "    data_norm_hits = data['records'][i]['spectrumCollections'][0]['spectra'][0]['hits'][k]['InChIKey_hits']\n",
        "    if(data_norm['InChIKey'][i] == int(data_norm_hits)):\n",
        "      value = [1]\n",
        "      x = x + value\n",
        "    else:\n",
        "      value = [0]\n",
        "      x = x + value\n",
        "\n",
        "len(x)\n",
        "binary_column = pd.DataFrame(x)\n",
        "binary_column = binary_column.rename(columns={0:'binary_value'})\n",
        "binary_column"
      ],
      "metadata": {
        "colab": {
          "base_uri": "https://localhost:8080/",
          "height": 423
        },
        "id": "T2qiMtbsrBNV",
        "outputId": "b30b23ad-0605-4d0b-882b-25a7ccecb3ae"
      },
      "execution_count": 105,
      "outputs": [
        {
          "output_type": "execute_result",
          "data": {
            "text/plain": [
              "     binary_value\n",
              "0               1\n",
              "1               0\n",
              "2               0\n",
              "3               1\n",
              "4               1\n",
              "..            ...\n",
              "295             1\n",
              "296             0\n",
              "297             0\n",
              "298             1\n",
              "299             1\n",
              "\n",
              "[300 rows x 1 columns]"
            ],
            "text/html": [
              "\n",
              "  <div id=\"df-a3688d78-f984-4997-aac7-fa0276742493\">\n",
              "    <div class=\"colab-df-container\">\n",
              "      <div>\n",
              "<style scoped>\n",
              "    .dataframe tbody tr th:only-of-type {\n",
              "        vertical-align: middle;\n",
              "    }\n",
              "\n",
              "    .dataframe tbody tr th {\n",
              "        vertical-align: top;\n",
              "    }\n",
              "\n",
              "    .dataframe thead th {\n",
              "        text-align: right;\n",
              "    }\n",
              "</style>\n",
              "<table border=\"1\" class=\"dataframe\">\n",
              "  <thead>\n",
              "    <tr style=\"text-align: right;\">\n",
              "      <th></th>\n",
              "      <th>binary_value</th>\n",
              "    </tr>\n",
              "  </thead>\n",
              "  <tbody>\n",
              "    <tr>\n",
              "      <th>0</th>\n",
              "      <td>1</td>\n",
              "    </tr>\n",
              "    <tr>\n",
              "      <th>1</th>\n",
              "      <td>0</td>\n",
              "    </tr>\n",
              "    <tr>\n",
              "      <th>2</th>\n",
              "      <td>0</td>\n",
              "    </tr>\n",
              "    <tr>\n",
              "      <th>3</th>\n",
              "      <td>1</td>\n",
              "    </tr>\n",
              "    <tr>\n",
              "      <th>4</th>\n",
              "      <td>1</td>\n",
              "    </tr>\n",
              "    <tr>\n",
              "      <th>...</th>\n",
              "      <td>...</td>\n",
              "    </tr>\n",
              "    <tr>\n",
              "      <th>295</th>\n",
              "      <td>1</td>\n",
              "    </tr>\n",
              "    <tr>\n",
              "      <th>296</th>\n",
              "      <td>0</td>\n",
              "    </tr>\n",
              "    <tr>\n",
              "      <th>297</th>\n",
              "      <td>0</td>\n",
              "    </tr>\n",
              "    <tr>\n",
              "      <th>298</th>\n",
              "      <td>1</td>\n",
              "    </tr>\n",
              "    <tr>\n",
              "      <th>299</th>\n",
              "      <td>1</td>\n",
              "    </tr>\n",
              "  </tbody>\n",
              "</table>\n",
              "<p>300 rows × 1 columns</p>\n",
              "</div>\n",
              "      <button class=\"colab-df-convert\" onclick=\"convertToInteractive('df-a3688d78-f984-4997-aac7-fa0276742493')\"\n",
              "              title=\"Convert this dataframe to an interactive table.\"\n",
              "              style=\"display:none;\">\n",
              "        \n",
              "  <svg xmlns=\"http://www.w3.org/2000/svg\" height=\"24px\"viewBox=\"0 0 24 24\"\n",
              "       width=\"24px\">\n",
              "    <path d=\"M0 0h24v24H0V0z\" fill=\"none\"/>\n",
              "    <path d=\"M18.56 5.44l.94 2.06.94-2.06 2.06-.94-2.06-.94-.94-2.06-.94 2.06-2.06.94zm-11 1L8.5 8.5l.94-2.06 2.06-.94-2.06-.94L8.5 2.5l-.94 2.06-2.06.94zm10 10l.94 2.06.94-2.06 2.06-.94-2.06-.94-.94-2.06-.94 2.06-2.06.94z\"/><path d=\"M17.41 7.96l-1.37-1.37c-.4-.4-.92-.59-1.43-.59-.52 0-1.04.2-1.43.59L10.3 9.45l-7.72 7.72c-.78.78-.78 2.05 0 2.83L4 21.41c.39.39.9.59 1.41.59.51 0 1.02-.2 1.41-.59l7.78-7.78 2.81-2.81c.8-.78.8-2.07 0-2.86zM5.41 20L4 18.59l7.72-7.72 1.47 1.35L5.41 20z\"/>\n",
              "  </svg>\n",
              "      </button>\n",
              "      \n",
              "  <style>\n",
              "    .colab-df-container {\n",
              "      display:flex;\n",
              "      flex-wrap:wrap;\n",
              "      gap: 12px;\n",
              "    }\n",
              "\n",
              "    .colab-df-convert {\n",
              "      background-color: #E8F0FE;\n",
              "      border: none;\n",
              "      border-radius: 50%;\n",
              "      cursor: pointer;\n",
              "      display: none;\n",
              "      fill: #1967D2;\n",
              "      height: 32px;\n",
              "      padding: 0 0 0 0;\n",
              "      width: 32px;\n",
              "    }\n",
              "\n",
              "    .colab-df-convert:hover {\n",
              "      background-color: #E2EBFA;\n",
              "      box-shadow: 0px 1px 2px rgba(60, 64, 67, 0.3), 0px 1px 3px 1px rgba(60, 64, 67, 0.15);\n",
              "      fill: #174EA6;\n",
              "    }\n",
              "\n",
              "    [theme=dark] .colab-df-convert {\n",
              "      background-color: #3B4455;\n",
              "      fill: #D2E3FC;\n",
              "    }\n",
              "\n",
              "    [theme=dark] .colab-df-convert:hover {\n",
              "      background-color: #434B5C;\n",
              "      box-shadow: 0px 1px 3px 1px rgba(0, 0, 0, 0.15);\n",
              "      filter: drop-shadow(0px 1px 2px rgba(0, 0, 0, 0.3));\n",
              "      fill: #FFFFFF;\n",
              "    }\n",
              "  </style>\n",
              "\n",
              "      <script>\n",
              "        const buttonEl =\n",
              "          document.querySelector('#df-a3688d78-f984-4997-aac7-fa0276742493 button.colab-df-convert');\n",
              "        buttonEl.style.display =\n",
              "          google.colab.kernel.accessAllowed ? 'block' : 'none';\n",
              "\n",
              "        async function convertToInteractive(key) {\n",
              "          const element = document.querySelector('#df-a3688d78-f984-4997-aac7-fa0276742493');\n",
              "          const dataTable =\n",
              "            await google.colab.kernel.invokeFunction('convertToInteractive',\n",
              "                                                     [key], {});\n",
              "          if (!dataTable) return;\n",
              "\n",
              "          const docLinkHtml = 'Like what you see? Visit the ' +\n",
              "            '<a target=\"_blank\" href=https://colab.research.google.com/notebooks/data_table.ipynb>data table notebook</a>'\n",
              "            + ' to learn more about interactive tables.';\n",
              "          element.innerHTML = '';\n",
              "          dataTable['output_type'] = 'display_data';\n",
              "          await google.colab.output.renderOutput(dataTable, element);\n",
              "          const docLink = document.createElement('div');\n",
              "          docLink.innerHTML = docLinkHtml;\n",
              "          element.appendChild(docLink);\n",
              "        }\n",
              "      </script>\n",
              "    </div>\n",
              "  </div>\n",
              "  "
            ]
          },
          "metadata": {},
          "execution_count": 105
        }
      ]
    },
    {
      "cell_type": "markdown",
      "source": [
        "Number of correct hits and incorrect hits - altogether (from all 267 hits, regardless of compound)"
      ],
      "metadata": {
        "id": "M-3vvcDOzApi"
      }
    },
    {
      "cell_type": "code",
      "source": [
        "corr = len(binary_column[binary_column['binary_value']==1])\n",
        "incorr = len(binary_column[binary_column['binary_value']==0])\n",
        "print(\"Number of correct hits: %(corr)d\" % {\"corr\": corr})\n",
        "print(\"Number of incorrect hits: %(incorr)d\" % {\"incorr\": incorr})"
      ],
      "metadata": {
        "colab": {
          "base_uri": "https://localhost:8080/"
        },
        "id": "215EluQx1JAg",
        "outputId": "67b7da60-3a95-4a78-d8cf-9a9084099730"
      },
      "execution_count": 106,
      "outputs": [
        {
          "output_type": "stream",
          "name": "stdout",
          "text": [
            "Number of correct hits: 154\n",
            "Number of incorrect hits: 146\n"
          ]
        }
      ]
    },
    {
      "cell_type": "markdown",
      "source": [
        "**For each compound** compute the number of correct hits and incorrect hits "
      ],
      "metadata": {
        "id": "1fnOz2REBofF"
      }
    },
    {
      "cell_type": "code",
      "source": [
        "correct_hits = list(range(len(data_norm)))\n",
        "incorrect_hits = list(range(len(data_norm)))\n",
        "\n",
        "for i in range(len(data_norm)):\n",
        "  #compute number of hits for each record\n",
        "  num_of_hits = len(data['records'][i]['spectrumCollections'][0]['spectra'][0]['hits'])\n",
        "  sum_correct = 0\n",
        "  sum_incorrect = 0\n",
        "  for k in range(num_of_hits):\n",
        "    data_norm_hits = data['records'][i]['spectrumCollections'][0]['spectra'][0]['hits'][k]['InChIKey_hits']\n",
        "    #compute sum of correct and incorrect hits for each record/compound\n",
        "    if(data_norm['InChIKey'][i] == int(data_norm_hits)):\n",
        "      sum_correct = sum_correct + 1\n",
        "    else:\n",
        "      sum_incorrect = sum_incorrect + 1\n",
        "\n",
        "  correct_hits[i] = sum_correct\n",
        "  incorrect_hits[i] = sum_incorrect\n",
        "\n",
        "#len(correct_hits),len(incorrect_hits)"
      ],
      "metadata": {
        "id": "w1d2clRzzGUV"
      },
      "execution_count": 107,
      "outputs": []
    },
    {
      "cell_type": "code",
      "source": [
        "correct_hits_df = pd.DataFrame(correct_hits)\n",
        "correct_hits_df = correct_hits_df.rename(columns={0:'num_of_correct_hits'})"
      ],
      "metadata": {
        "id": "k4SA11cBAhY4"
      },
      "execution_count": 108,
      "outputs": []
    },
    {
      "cell_type": "code",
      "source": [
        "incorrect_hits_df = pd.DataFrame(incorrect_hits)\n",
        "incorrect_hits_df = incorrect_hits_df.rename(columns={0:'num_of_incorrect_hits'})"
      ],
      "metadata": {
        "id": "NkU_qeKOA1cB"
      },
      "execution_count": 109,
      "outputs": []
    },
    {
      "cell_type": "code",
      "source": [
        "result = pd.concat([correct_hits_df, incorrect_hits_df], axis=1)\n",
        "result"
      ],
      "metadata": {
        "id": "MRiq2BS39cJT",
        "colab": {
          "base_uri": "https://localhost:8080/",
          "height": 423
        },
        "outputId": "b88d61c1-016e-40ae-bcf8-f12c545747cd"
      },
      "execution_count": 110,
      "outputs": [
        {
          "output_type": "execute_result",
          "data": {
            "text/plain": [
              "    num_of_correct_hits  num_of_incorrect_hits\n",
              "0                     1                      2\n",
              "1                     1                      0\n",
              "2                     2                      1\n",
              "3                     1                      2\n",
              "4                     2                      0\n",
              "..                  ...                    ...\n",
              "90                    2                      2\n",
              "91                    4                      0\n",
              "92                    1                      0\n",
              "93                    0                      2\n",
              "94                    2                      0\n",
              "\n",
              "[95 rows x 2 columns]"
            ],
            "text/html": [
              "\n",
              "  <div id=\"df-200cad64-cb4a-4c00-9f72-607d14fcfa2a\">\n",
              "    <div class=\"colab-df-container\">\n",
              "      <div>\n",
              "<style scoped>\n",
              "    .dataframe tbody tr th:only-of-type {\n",
              "        vertical-align: middle;\n",
              "    }\n",
              "\n",
              "    .dataframe tbody tr th {\n",
              "        vertical-align: top;\n",
              "    }\n",
              "\n",
              "    .dataframe thead th {\n",
              "        text-align: right;\n",
              "    }\n",
              "</style>\n",
              "<table border=\"1\" class=\"dataframe\">\n",
              "  <thead>\n",
              "    <tr style=\"text-align: right;\">\n",
              "      <th></th>\n",
              "      <th>num_of_correct_hits</th>\n",
              "      <th>num_of_incorrect_hits</th>\n",
              "    </tr>\n",
              "  </thead>\n",
              "  <tbody>\n",
              "    <tr>\n",
              "      <th>0</th>\n",
              "      <td>1</td>\n",
              "      <td>2</td>\n",
              "    </tr>\n",
              "    <tr>\n",
              "      <th>1</th>\n",
              "      <td>1</td>\n",
              "      <td>0</td>\n",
              "    </tr>\n",
              "    <tr>\n",
              "      <th>2</th>\n",
              "      <td>2</td>\n",
              "      <td>1</td>\n",
              "    </tr>\n",
              "    <tr>\n",
              "      <th>3</th>\n",
              "      <td>1</td>\n",
              "      <td>2</td>\n",
              "    </tr>\n",
              "    <tr>\n",
              "      <th>4</th>\n",
              "      <td>2</td>\n",
              "      <td>0</td>\n",
              "    </tr>\n",
              "    <tr>\n",
              "      <th>...</th>\n",
              "      <td>...</td>\n",
              "      <td>...</td>\n",
              "    </tr>\n",
              "    <tr>\n",
              "      <th>90</th>\n",
              "      <td>2</td>\n",
              "      <td>2</td>\n",
              "    </tr>\n",
              "    <tr>\n",
              "      <th>91</th>\n",
              "      <td>4</td>\n",
              "      <td>0</td>\n",
              "    </tr>\n",
              "    <tr>\n",
              "      <th>92</th>\n",
              "      <td>1</td>\n",
              "      <td>0</td>\n",
              "    </tr>\n",
              "    <tr>\n",
              "      <th>93</th>\n",
              "      <td>0</td>\n",
              "      <td>2</td>\n",
              "    </tr>\n",
              "    <tr>\n",
              "      <th>94</th>\n",
              "      <td>2</td>\n",
              "      <td>0</td>\n",
              "    </tr>\n",
              "  </tbody>\n",
              "</table>\n",
              "<p>95 rows × 2 columns</p>\n",
              "</div>\n",
              "      <button class=\"colab-df-convert\" onclick=\"convertToInteractive('df-200cad64-cb4a-4c00-9f72-607d14fcfa2a')\"\n",
              "              title=\"Convert this dataframe to an interactive table.\"\n",
              "              style=\"display:none;\">\n",
              "        \n",
              "  <svg xmlns=\"http://www.w3.org/2000/svg\" height=\"24px\"viewBox=\"0 0 24 24\"\n",
              "       width=\"24px\">\n",
              "    <path d=\"M0 0h24v24H0V0z\" fill=\"none\"/>\n",
              "    <path d=\"M18.56 5.44l.94 2.06.94-2.06 2.06-.94-2.06-.94-.94-2.06-.94 2.06-2.06.94zm-11 1L8.5 8.5l.94-2.06 2.06-.94-2.06-.94L8.5 2.5l-.94 2.06-2.06.94zm10 10l.94 2.06.94-2.06 2.06-.94-2.06-.94-.94-2.06-.94 2.06-2.06.94z\"/><path d=\"M17.41 7.96l-1.37-1.37c-.4-.4-.92-.59-1.43-.59-.52 0-1.04.2-1.43.59L10.3 9.45l-7.72 7.72c-.78.78-.78 2.05 0 2.83L4 21.41c.39.39.9.59 1.41.59.51 0 1.02-.2 1.41-.59l7.78-7.78 2.81-2.81c.8-.78.8-2.07 0-2.86zM5.41 20L4 18.59l7.72-7.72 1.47 1.35L5.41 20z\"/>\n",
              "  </svg>\n",
              "      </button>\n",
              "      \n",
              "  <style>\n",
              "    .colab-df-container {\n",
              "      display:flex;\n",
              "      flex-wrap:wrap;\n",
              "      gap: 12px;\n",
              "    }\n",
              "\n",
              "    .colab-df-convert {\n",
              "      background-color: #E8F0FE;\n",
              "      border: none;\n",
              "      border-radius: 50%;\n",
              "      cursor: pointer;\n",
              "      display: none;\n",
              "      fill: #1967D2;\n",
              "      height: 32px;\n",
              "      padding: 0 0 0 0;\n",
              "      width: 32px;\n",
              "    }\n",
              "\n",
              "    .colab-df-convert:hover {\n",
              "      background-color: #E2EBFA;\n",
              "      box-shadow: 0px 1px 2px rgba(60, 64, 67, 0.3), 0px 1px 3px 1px rgba(60, 64, 67, 0.15);\n",
              "      fill: #174EA6;\n",
              "    }\n",
              "\n",
              "    [theme=dark] .colab-df-convert {\n",
              "      background-color: #3B4455;\n",
              "      fill: #D2E3FC;\n",
              "    }\n",
              "\n",
              "    [theme=dark] .colab-df-convert:hover {\n",
              "      background-color: #434B5C;\n",
              "      box-shadow: 0px 1px 3px 1px rgba(0, 0, 0, 0.15);\n",
              "      filter: drop-shadow(0px 1px 2px rgba(0, 0, 0, 0.3));\n",
              "      fill: #FFFFFF;\n",
              "    }\n",
              "  </style>\n",
              "\n",
              "      <script>\n",
              "        const buttonEl =\n",
              "          document.querySelector('#df-200cad64-cb4a-4c00-9f72-607d14fcfa2a button.colab-df-convert');\n",
              "        buttonEl.style.display =\n",
              "          google.colab.kernel.accessAllowed ? 'block' : 'none';\n",
              "\n",
              "        async function convertToInteractive(key) {\n",
              "          const element = document.querySelector('#df-200cad64-cb4a-4c00-9f72-607d14fcfa2a');\n",
              "          const dataTable =\n",
              "            await google.colab.kernel.invokeFunction('convertToInteractive',\n",
              "                                                     [key], {});\n",
              "          if (!dataTable) return;\n",
              "\n",
              "          const docLinkHtml = 'Like what you see? Visit the ' +\n",
              "            '<a target=\"_blank\" href=https://colab.research.google.com/notebooks/data_table.ipynb>data table notebook</a>'\n",
              "            + ' to learn more about interactive tables.';\n",
              "          element.innerHTML = '';\n",
              "          dataTable['output_type'] = 'display_data';\n",
              "          await google.colab.output.renderOutput(dataTable, element);\n",
              "          const docLink = document.createElement('div');\n",
              "          docLink.innerHTML = docLinkHtml;\n",
              "          element.appendChild(docLink);\n",
              "        }\n",
              "      </script>\n",
              "    </div>\n",
              "  </div>\n",
              "  "
            ]
          },
          "metadata": {},
          "execution_count": 110
        }
      ]
    },
    {
      "cell_type": "markdown",
      "source": [
        "At least one correct hit vs. all incorrect"
      ],
      "metadata": {
        "id": "y6A23RguFJnO"
      }
    },
    {
      "cell_type": "code",
      "source": [
        "print(\"At least one correct hit:\" + str(result[result.num_of_correct_hits > 0].count()[1]))\n",
        "print(\"Only incorrect hits:\" + str(result[result.num_of_correct_hits == 0].count()[1]))"
      ],
      "metadata": {
        "colab": {
          "base_uri": "https://localhost:8080/"
        },
        "id": "pzgG4h_pEu0x",
        "outputId": "5e4658c3-3652-49a5-c952-84e8d91a2b4f"
      },
      "execution_count": 111,
      "outputs": [
        {
          "output_type": "stream",
          "name": "stdout",
          "text": [
            "At least one correct hit:85\n",
            "Only incorrect hits:10\n"
          ]
        }
      ]
    },
    {
      "cell_type": "code",
      "source": [
        "a = result[result.num_of_correct_hits > 0].count()[1]\n",
        "b = result[result.num_of_correct_hits == 0].count()[1]\n",
        "\n",
        "perc_correct = a/(a+b)*100\n",
        "perc_incorrect = b/(a+b)*100\n",
        "\n",
        "perc_correct, perc_incorrect"
      ],
      "metadata": {
        "colab": {
          "base_uri": "https://localhost:8080/"
        },
        "id": "BEF-1eCLvSZ1",
        "outputId": "bcc4f5ac-5509-4a93-a167-f25e52e8a925"
      },
      "execution_count": 112,
      "outputs": [
        {
          "output_type": "execute_result",
          "data": {
            "text/plain": [
              "(89.47368421052632, 10.526315789473683)"
            ]
          },
          "metadata": {},
          "execution_count": 112
        }
      ]
    },
    {
      "cell_type": "markdown",
      "source": [
        "Relate the ranking of candidates based on their score to the number of potential hits (all hits)."
      ],
      "metadata": {
        "id": "4FnBmvsQLX2b"
      }
    },
    {
      "cell_type": "code",
      "source": [
        "num_of_hits = list(range(len(data_norm)))\n",
        "for i in range(len(data_norm)):\n",
        "  #compute number of hits for each record\n",
        "  num_of_hits[i] = len(data['records'][i]['spectrumCollections'][0]['spectra'][0]['hits'])\n",
        "\n",
        "len(num_of_hits)\n",
        "num_of_hits"
      ],
      "metadata": {
        "id": "TJvhVNKrLa-I",
        "colab": {
          "base_uri": "https://localhost:8080/"
        },
        "outputId": "8333cb3c-3894-4491-cf90-6a0a50fd1765"
      },
      "execution_count": 113,
      "outputs": [
        {
          "output_type": "execute_result",
          "data": {
            "text/plain": [
              "[3,\n",
              " 1,\n",
              " 3,\n",
              " 3,\n",
              " 2,\n",
              " 3,\n",
              " 6,\n",
              " 2,\n",
              " 2,\n",
              " 1,\n",
              " 1,\n",
              " 2,\n",
              " 2,\n",
              " 3,\n",
              " 4,\n",
              " 2,\n",
              " 1,\n",
              " 2,\n",
              " 2,\n",
              " 17,\n",
              " 2,\n",
              " 1,\n",
              " 2,\n",
              " 2,\n",
              " 3,\n",
              " 1,\n",
              " 6,\n",
              " 1,\n",
              " 1,\n",
              " 4,\n",
              " 1,\n",
              " 1,\n",
              " 1,\n",
              " 13,\n",
              " 2,\n",
              " 2,\n",
              " 5,\n",
              " 2,\n",
              " 2,\n",
              " 1,\n",
              " 2,\n",
              " 5,\n",
              " 2,\n",
              " 5,\n",
              " 6,\n",
              " 2,\n",
              " 7,\n",
              " 2,\n",
              " 1,\n",
              " 3,\n",
              " 4,\n",
              " 1,\n",
              " 2,\n",
              " 2,\n",
              " 4,\n",
              " 10,\n",
              " 4,\n",
              " 4,\n",
              " 13,\n",
              " 2,\n",
              " 1,\n",
              " 4,\n",
              " 2,\n",
              " 2,\n",
              " 2,\n",
              " 5,\n",
              " 14,\n",
              " 6,\n",
              " 8,\n",
              " 2,\n",
              " 2,\n",
              " 1,\n",
              " 3,\n",
              " 2,\n",
              " 4,\n",
              " 2,\n",
              " 4,\n",
              " 4,\n",
              " 1,\n",
              " 4,\n",
              " 2,\n",
              " 2,\n",
              " 2,\n",
              " 1,\n",
              " 1,\n",
              " 4,\n",
              " 1,\n",
              " 2,\n",
              " 1,\n",
              " 2,\n",
              " 4,\n",
              " 4,\n",
              " 1,\n",
              " 2,\n",
              " 2]"
            ]
          },
          "metadata": {},
          "execution_count": 113
        }
      ]
    },
    {
      "cell_type": "markdown",
      "source": [
        "Scores/relative ranks computed for all hits, considering all three ranks"
      ],
      "metadata": {
        "id": "hIzNeJC07BAe"
      }
    },
    {
      "cell_type": "code",
      "source": [
        "norm_data_hits = pd.json_normalize(data,record_path=['records','spectrumCollections','spectra','hits'])\n",
        "#norm_data_hits['nistMatch_rank']\n",
        "#len(norm_data_hits)"
      ],
      "metadata": {
        "id": "ys7tvaqA8Jl7"
      },
      "execution_count": 114,
      "outputs": []
    },
    {
      "cell_type": "code",
      "source": [
        "rrank_cosine = []\n",
        "rrank_denver = []\n",
        "rrank_nist = []\n",
        "\n",
        "for i in range(len(data_norm)):\n",
        "  #compute number of hits for each record\n",
        "  num_of_hits = len(data['records'][i]['spectrumCollections'][0]['spectra'][0]['hits'])\n",
        "  for k in range(num_of_hits):\n",
        "    cosine = data['records'][i]['spectrumCollections'][0]['spectra'][0]['hits'][k]['cosineMatch_rank']\n",
        "    denver = data['records'][i]['spectrumCollections'][0]['spectra'][0]['hits'][k]['denverMatch_rank']\n",
        "    nist = data['records'][i]['spectrumCollections'][0]['spectra'][0]['hits'][k]['nistMatch_rank']\n",
        "    #compute scores/relative rank\n",
        "    if(num_of_hits == 1):\n",
        "      score_cosine = 0\n",
        "      score_denver = 0\n",
        "      score_nist = 0\n",
        "    else:\n",
        "      score_cosine = (cosine - 1) / (num_of_hits - 1)\n",
        "      score_denver = (denver - 1) / (num_of_hits - 1)\n",
        "      score_nist = (nist- 1) / (num_of_hits - 1)\n",
        "\n",
        "    rrank_cosine = rrank_cosine + [score_cosine]\n",
        "    rrank_denver = rrank_denver + [score_denver]\n",
        "    rrank_nist = rrank_nist + [score_nist]\n",
        "\n",
        "#len(rrank_cosine)\n",
        "rrank_cosine"
      ],
      "metadata": {
        "id": "dMi5kN-uCVhy",
        "colab": {
          "base_uri": "https://localhost:8080/"
        },
        "outputId": "cbf99bdb-068d-4d6e-e720-36a3e8e8350b"
      },
      "execution_count": 115,
      "outputs": [
        {
          "output_type": "execute_result",
          "data": {
            "text/plain": [
              "[0.0,\n",
              " 0.5,\n",
              " 1.0,\n",
              " 0,\n",
              " 0.0,\n",
              " 0.5,\n",
              " 1.0,\n",
              " 0.5,\n",
              " 1.0,\n",
              " 0.0,\n",
              " 0.0,\n",
              " 1.0,\n",
              " 0.0,\n",
              " 0.5,\n",
              " 1.0,\n",
              " 0.0,\n",
              " 0.2,\n",
              " 0.8,\n",
              " 1.0,\n",
              " 0.4,\n",
              " 0.6,\n",
              " 0.0,\n",
              " 1.0,\n",
              " 0.0,\n",
              " 1.0,\n",
              " 0,\n",
              " 0,\n",
              " 1.0,\n",
              " 0.0,\n",
              " 0.0,\n",
              " 1.0,\n",
              " 0.0,\n",
              " 0.5,\n",
              " 1.0,\n",
              " 0.0,\n",
              " 0.3333333333333333,\n",
              " 0.6666666666666666,\n",
              " 1.0,\n",
              " 0.0,\n",
              " 1.0,\n",
              " 0,\n",
              " 0.0,\n",
              " 1.0,\n",
              " 0.0,\n",
              " 1.0,\n",
              " 0.0,\n",
              " 0.0625,\n",
              " 0.125,\n",
              " 0.1875,\n",
              " 0.25,\n",
              " 0.75,\n",
              " 0.375,\n",
              " 0.3125,\n",
              " 0.4375,\n",
              " 0.5625,\n",
              " 0.5,\n",
              " 0.6875,\n",
              " 0.625,\n",
              " 0.8125,\n",
              " 0.875,\n",
              " 0.9375,\n",
              " 1.0,\n",
              " 0.0,\n",
              " 1.0,\n",
              " 0,\n",
              " 0.0,\n",
              " 1.0,\n",
              " 0.0,\n",
              " 1.0,\n",
              " 0.0,\n",
              " 0.5,\n",
              " 1.0,\n",
              " 0,\n",
              " 0.6,\n",
              " 0.0,\n",
              " 0.8,\n",
              " 0.2,\n",
              " 0.4,\n",
              " 1.0,\n",
              " 0,\n",
              " 0,\n",
              " 0.0,\n",
              " 0.6666666666666666,\n",
              " 1.0,\n",
              " 0.3333333333333333,\n",
              " 0,\n",
              " 0,\n",
              " 0,\n",
              " 0.08333333333333333,\n",
              " 0.0,\n",
              " 0.9166666666666666,\n",
              " 0.25,\n",
              " 0.16666666666666666,\n",
              " 0.5,\n",
              " 0.4166666666666667,\n",
              " 0.5833333333333334,\n",
              " 0.6666666666666666,\n",
              " 0.75,\n",
              " 0.3333333333333333,\n",
              " 0.8333333333333334,\n",
              " 1.0,\n",
              " 0.0,\n",
              " 1.0,\n",
              " 0.0,\n",
              " 1.0,\n",
              " 0.0,\n",
              " 0.25,\n",
              " 0.5,\n",
              " 0.75,\n",
              " 1.0,\n",
              " 1.0,\n",
              " 0.0,\n",
              " 0.0,\n",
              " 1.0,\n",
              " 0,\n",
              " 0.0,\n",
              " 1.0,\n",
              " 0.0,\n",
              " 0.25,\n",
              " 1.0,\n",
              " 0.5,\n",
              " 0.75,\n",
              " 0.0,\n",
              " 1.0,\n",
              " 0.25,\n",
              " 0.0,\n",
              " 0.75,\n",
              " 0.5,\n",
              " 1.0,\n",
              " 0.2,\n",
              " 0.0,\n",
              " 0.8,\n",
              " 0.4,\n",
              " 1.0,\n",
              " 0.6,\n",
              " 0.0,\n",
              " 1.0,\n",
              " 0.0,\n",
              " 0.3333333333333333,\n",
              " 0.16666666666666666,\n",
              " 0.5,\n",
              " 0.6666666666666666,\n",
              " 0.8333333333333334,\n",
              " 1.0,\n",
              " 0.0,\n",
              " 1.0,\n",
              " 0,\n",
              " 0.0,\n",
              " 0.5,\n",
              " 1.0,\n",
              " 0.0,\n",
              " 0.3333333333333333,\n",
              " 1.0,\n",
              " 0.6666666666666666,\n",
              " 0,\n",
              " 0.0,\n",
              " 1.0,\n",
              " 0.0,\n",
              " 1.0,\n",
              " 0.0,\n",
              " 0.3333333333333333,\n",
              " 0.6666666666666666,\n",
              " 1.0,\n",
              " 0.0,\n",
              " 0.1111111111111111,\n",
              " 0.2222222222222222,\n",
              " 0.3333333333333333,\n",
              " 0.6666666666666666,\n",
              " 0.7777777777777778,\n",
              " 0.4444444444444444,\n",
              " 0.5555555555555556,\n",
              " 0.8888888888888888,\n",
              " 1.0,\n",
              " 1.0,\n",
              " 0.6666666666666666,\n",
              " 0.0,\n",
              " 0.3333333333333333,\n",
              " 0.3333333333333333,\n",
              " 0.0,\n",
              " 1.0,\n",
              " 0.6666666666666666,\n",
              " 0.0,\n",
              " 0.08333333333333333,\n",
              " 0.9166666666666666,\n",
              " 0.25,\n",
              " 0.16666666666666666,\n",
              " 0.8333333333333334,\n",
              " 0.3333333333333333,\n",
              " 0.5,\n",
              " 0.4166666666666667,\n",
              " 0.5833333333333334,\n",
              " 0.6666666666666666,\n",
              " 0.75,\n",
              " 1.0,\n",
              " 0.0,\n",
              " 1.0,\n",
              " 0,\n",
              " 0.0,\n",
              " 0.3333333333333333,\n",
              " 0.6666666666666666,\n",
              " 1.0,\n",
              " 0.0,\n",
              " 1.0,\n",
              " 0.0,\n",
              " 1.0,\n",
              " 0.0,\n",
              " 1.0,\n",
              " 0.0,\n",
              " 0.25,\n",
              " 1.0,\n",
              " 0.5,\n",
              " 0.75,\n",
              " 0.07692307692307693,\n",
              " 0.0,\n",
              " 0.7692307692307693,\n",
              " 0.8461538461538461,\n",
              " 0.3076923076923077,\n",
              " 0.9230769230769231,\n",
              " 0.15384615384615385,\n",
              " 0.23076923076923078,\n",
              " 0.5384615384615384,\n",
              " 0.38461538461538464,\n",
              " 0.46153846153846156,\n",
              " 0.6153846153846154,\n",
              " 0.6923076923076923,\n",
              " 1.0,\n",
              " 0.0,\n",
              " 0.2,\n",
              " 0.4,\n",
              " 0.6,\n",
              " 0.8,\n",
              " 1.0,\n",
              " 0.5714285714285714,\n",
              " 0.7142857142857143,\n",
              " 0.0,\n",
              " 0.14285714285714285,\n",
              " 0.2857142857142857,\n",
              " 0.42857142857142855,\n",
              " 0.8571428571428571,\n",
              " 1.0,\n",
              " 1.0,\n",
              " 0.0,\n",
              " 0.0,\n",
              " 1.0,\n",
              " 0,\n",
              " 0.0,\n",
              " 1.0,\n",
              " 0.5,\n",
              " 0.0,\n",
              " 1.0,\n",
              " 0.0,\n",
              " 0.3333333333333333,\n",
              " 0.6666666666666666,\n",
              " 1.0,\n",
              " 0.0,\n",
              " 1.0,\n",
              " 0.0,\n",
              " 0.3333333333333333,\n",
              " 0.6666666666666666,\n",
              " 1.0,\n",
              " 0.0,\n",
              " 0.3333333333333333,\n",
              " 0.6666666666666666,\n",
              " 1.0,\n",
              " 0,\n",
              " 0.0,\n",
              " 0.3333333333333333,\n",
              " 0.6666666666666666,\n",
              " 1.0,\n",
              " 0.0,\n",
              " 1.0,\n",
              " 0.0,\n",
              " 1.0,\n",
              " 0.0,\n",
              " 1.0,\n",
              " 0,\n",
              " 0,\n",
              " 0.3333333333333333,\n",
              " 0.6666666666666666,\n",
              " 0.0,\n",
              " 1.0,\n",
              " 0,\n",
              " 0.0,\n",
              " 1.0,\n",
              " 0,\n",
              " 0.0,\n",
              " 1.0,\n",
              " 0.0,\n",
              " 0.6666666666666666,\n",
              " 0.3333333333333333,\n",
              " 1.0,\n",
              " 0.0,\n",
              " 0.3333333333333333,\n",
              " 0.6666666666666666,\n",
              " 1.0,\n",
              " 0,\n",
              " 0.0,\n",
              " 1.0,\n",
              " 1.0,\n",
              " 0.0]"
            ]
          },
          "metadata": {},
          "execution_count": 115
        }
      ]
    },
    {
      "cell_type": "code",
      "source": [
        "rrank_cosine_df = pd.DataFrame(rrank_cosine)\n",
        "rrank_cosine_df = rrank_cosine_df.rename(columns={0:'cosine_relative_rank'})\n",
        "\n",
        "rrank_denver_df = pd.DataFrame(rrank_denver)\n",
        "rrank_denver_df = rrank_denver_df.rename(columns={0:'denver_relative_rank'})\n",
        "\n",
        "rrank_nist_df = pd.DataFrame(rrank_nist)\n",
        "rrank_nist_df = rrank_nist_df.rename(columns={0:'nist_relative_rank'})\n",
        "\n",
        "rranks = pd.concat([rrank_cosine_df, rrank_denver_df, rrank_nist_df], axis=1)\n",
        "rranks.index.names = ['hits']\n",
        "rranks"
      ],
      "metadata": {
        "id": "0rWIyrjQqCUQ",
        "colab": {
          "base_uri": "https://localhost:8080/",
          "height": 455
        },
        "outputId": "14309ad6-f399-4a72-d3d4-39e6cbfada27"
      },
      "execution_count": 116,
      "outputs": [
        {
          "output_type": "execute_result",
          "data": {
            "text/plain": [
              "      cosine_relative_rank  denver_relative_rank  nist_relative_rank\n",
              "hits                                                                \n",
              "0                      0.0                   0.0                 0.0\n",
              "1                      0.5                   0.5                 0.5\n",
              "2                      1.0                   1.0                 1.0\n",
              "3                      0.0                   0.0                 0.0\n",
              "4                      0.0                   0.0                 0.0\n",
              "...                    ...                   ...                 ...\n",
              "295                    0.0                   0.0                 0.0\n",
              "296                    0.0                   0.0                 0.0\n",
              "297                    1.0                   1.0                 1.0\n",
              "298                    1.0                   0.0                 1.0\n",
              "299                    0.0                   1.0                 0.0\n",
              "\n",
              "[300 rows x 3 columns]"
            ],
            "text/html": [
              "\n",
              "  <div id=\"df-0527dd2e-3103-4ab7-8a52-785d056d32a1\">\n",
              "    <div class=\"colab-df-container\">\n",
              "      <div>\n",
              "<style scoped>\n",
              "    .dataframe tbody tr th:only-of-type {\n",
              "        vertical-align: middle;\n",
              "    }\n",
              "\n",
              "    .dataframe tbody tr th {\n",
              "        vertical-align: top;\n",
              "    }\n",
              "\n",
              "    .dataframe thead th {\n",
              "        text-align: right;\n",
              "    }\n",
              "</style>\n",
              "<table border=\"1\" class=\"dataframe\">\n",
              "  <thead>\n",
              "    <tr style=\"text-align: right;\">\n",
              "      <th></th>\n",
              "      <th>cosine_relative_rank</th>\n",
              "      <th>denver_relative_rank</th>\n",
              "      <th>nist_relative_rank</th>\n",
              "    </tr>\n",
              "    <tr>\n",
              "      <th>hits</th>\n",
              "      <th></th>\n",
              "      <th></th>\n",
              "      <th></th>\n",
              "    </tr>\n",
              "  </thead>\n",
              "  <tbody>\n",
              "    <tr>\n",
              "      <th>0</th>\n",
              "      <td>0.0</td>\n",
              "      <td>0.0</td>\n",
              "      <td>0.0</td>\n",
              "    </tr>\n",
              "    <tr>\n",
              "      <th>1</th>\n",
              "      <td>0.5</td>\n",
              "      <td>0.5</td>\n",
              "      <td>0.5</td>\n",
              "    </tr>\n",
              "    <tr>\n",
              "      <th>2</th>\n",
              "      <td>1.0</td>\n",
              "      <td>1.0</td>\n",
              "      <td>1.0</td>\n",
              "    </tr>\n",
              "    <tr>\n",
              "      <th>3</th>\n",
              "      <td>0.0</td>\n",
              "      <td>0.0</td>\n",
              "      <td>0.0</td>\n",
              "    </tr>\n",
              "    <tr>\n",
              "      <th>4</th>\n",
              "      <td>0.0</td>\n",
              "      <td>0.0</td>\n",
              "      <td>0.0</td>\n",
              "    </tr>\n",
              "    <tr>\n",
              "      <th>...</th>\n",
              "      <td>...</td>\n",
              "      <td>...</td>\n",
              "      <td>...</td>\n",
              "    </tr>\n",
              "    <tr>\n",
              "      <th>295</th>\n",
              "      <td>0.0</td>\n",
              "      <td>0.0</td>\n",
              "      <td>0.0</td>\n",
              "    </tr>\n",
              "    <tr>\n",
              "      <th>296</th>\n",
              "      <td>0.0</td>\n",
              "      <td>0.0</td>\n",
              "      <td>0.0</td>\n",
              "    </tr>\n",
              "    <tr>\n",
              "      <th>297</th>\n",
              "      <td>1.0</td>\n",
              "      <td>1.0</td>\n",
              "      <td>1.0</td>\n",
              "    </tr>\n",
              "    <tr>\n",
              "      <th>298</th>\n",
              "      <td>1.0</td>\n",
              "      <td>0.0</td>\n",
              "      <td>1.0</td>\n",
              "    </tr>\n",
              "    <tr>\n",
              "      <th>299</th>\n",
              "      <td>0.0</td>\n",
              "      <td>1.0</td>\n",
              "      <td>0.0</td>\n",
              "    </tr>\n",
              "  </tbody>\n",
              "</table>\n",
              "<p>300 rows × 3 columns</p>\n",
              "</div>\n",
              "      <button class=\"colab-df-convert\" onclick=\"convertToInteractive('df-0527dd2e-3103-4ab7-8a52-785d056d32a1')\"\n",
              "              title=\"Convert this dataframe to an interactive table.\"\n",
              "              style=\"display:none;\">\n",
              "        \n",
              "  <svg xmlns=\"http://www.w3.org/2000/svg\" height=\"24px\"viewBox=\"0 0 24 24\"\n",
              "       width=\"24px\">\n",
              "    <path d=\"M0 0h24v24H0V0z\" fill=\"none\"/>\n",
              "    <path d=\"M18.56 5.44l.94 2.06.94-2.06 2.06-.94-2.06-.94-.94-2.06-.94 2.06-2.06.94zm-11 1L8.5 8.5l.94-2.06 2.06-.94-2.06-.94L8.5 2.5l-.94 2.06-2.06.94zm10 10l.94 2.06.94-2.06 2.06-.94-2.06-.94-.94-2.06-.94 2.06-2.06.94z\"/><path d=\"M17.41 7.96l-1.37-1.37c-.4-.4-.92-.59-1.43-.59-.52 0-1.04.2-1.43.59L10.3 9.45l-7.72 7.72c-.78.78-.78 2.05 0 2.83L4 21.41c.39.39.9.59 1.41.59.51 0 1.02-.2 1.41-.59l7.78-7.78 2.81-2.81c.8-.78.8-2.07 0-2.86zM5.41 20L4 18.59l7.72-7.72 1.47 1.35L5.41 20z\"/>\n",
              "  </svg>\n",
              "      </button>\n",
              "      \n",
              "  <style>\n",
              "    .colab-df-container {\n",
              "      display:flex;\n",
              "      flex-wrap:wrap;\n",
              "      gap: 12px;\n",
              "    }\n",
              "\n",
              "    .colab-df-convert {\n",
              "      background-color: #E8F0FE;\n",
              "      border: none;\n",
              "      border-radius: 50%;\n",
              "      cursor: pointer;\n",
              "      display: none;\n",
              "      fill: #1967D2;\n",
              "      height: 32px;\n",
              "      padding: 0 0 0 0;\n",
              "      width: 32px;\n",
              "    }\n",
              "\n",
              "    .colab-df-convert:hover {\n",
              "      background-color: #E2EBFA;\n",
              "      box-shadow: 0px 1px 2px rgba(60, 64, 67, 0.3), 0px 1px 3px 1px rgba(60, 64, 67, 0.15);\n",
              "      fill: #174EA6;\n",
              "    }\n",
              "\n",
              "    [theme=dark] .colab-df-convert {\n",
              "      background-color: #3B4455;\n",
              "      fill: #D2E3FC;\n",
              "    }\n",
              "\n",
              "    [theme=dark] .colab-df-convert:hover {\n",
              "      background-color: #434B5C;\n",
              "      box-shadow: 0px 1px 3px 1px rgba(0, 0, 0, 0.15);\n",
              "      filter: drop-shadow(0px 1px 2px rgba(0, 0, 0, 0.3));\n",
              "      fill: #FFFFFF;\n",
              "    }\n",
              "  </style>\n",
              "\n",
              "      <script>\n",
              "        const buttonEl =\n",
              "          document.querySelector('#df-0527dd2e-3103-4ab7-8a52-785d056d32a1 button.colab-df-convert');\n",
              "        buttonEl.style.display =\n",
              "          google.colab.kernel.accessAllowed ? 'block' : 'none';\n",
              "\n",
              "        async function convertToInteractive(key) {\n",
              "          const element = document.querySelector('#df-0527dd2e-3103-4ab7-8a52-785d056d32a1');\n",
              "          const dataTable =\n",
              "            await google.colab.kernel.invokeFunction('convertToInteractive',\n",
              "                                                     [key], {});\n",
              "          if (!dataTable) return;\n",
              "\n",
              "          const docLinkHtml = 'Like what you see? Visit the ' +\n",
              "            '<a target=\"_blank\" href=https://colab.research.google.com/notebooks/data_table.ipynb>data table notebook</a>'\n",
              "            + ' to learn more about interactive tables.';\n",
              "          element.innerHTML = '';\n",
              "          dataTable['output_type'] = 'display_data';\n",
              "          await google.colab.output.renderOutput(dataTable, element);\n",
              "          const docLink = document.createElement('div');\n",
              "          docLink.innerHTML = docLinkHtml;\n",
              "          element.appendChild(docLink);\n",
              "        }\n",
              "      </script>\n",
              "    </div>\n",
              "  </div>\n",
              "  "
            ]
          },
          "metadata": {},
          "execution_count": 116
        }
      ]
    },
    {
      "cell_type": "markdown",
      "source": [
        "Plot true-positive rate vs. rank threshold"
      ],
      "metadata": {
        "id": "kIHTx2AZpiP1"
      }
    },
    {
      "cell_type": "code",
      "source": [
        "treshold = norm_data_hits['cosineMatch_rank'].unique()\n",
        "#norm_data_hits['denverMatch_rank'].unique()\n",
        "#norm_data_hits['nistMatch_rank'].unique()\n",
        "treshold.sort()"
      ],
      "metadata": {
        "id": "y0PUW-LN0WkS"
      },
      "execution_count": 117,
      "outputs": []
    },
    {
      "cell_type": "code",
      "source": [
        "TPRc = list(range(len(treshold)))\n",
        "TPRd = list(range(len(treshold)))\n",
        "TPRn = list(range(len(treshold)))\n",
        "\n",
        "for j in range(len(treshold)):\n",
        "  TPc = 0 #number of true-positive hits for cosine rank\n",
        "  FPc = 0 #number of false-positive hits for cosine rank\n",
        "  TPd = 0 #number of true-positive hits for denver rank\n",
        "  FPd = 0 #number of false-positive hits for denver rank\n",
        "  TPn = 0 #number of true-positive hits for nist rank\n",
        "  FPn = 0 #number of false-positive hits for nist rank\n",
        "  for i in range(len(data_norm)):\n",
        "    #compute number of hits for each record\n",
        "    num_of_hits = len(data['records'][i]['spectrumCollections'][0]['spectra'][0]['hits'])\n",
        "    for k in range(num_of_hits):\n",
        "      cosine_rank = data['records'][i]['spectrumCollections'][0]['spectra'][0]['hits'][k]['cosineMatch_rank']\n",
        "      denver_rank = data['records'][i]['spectrumCollections'][0]['spectra'][0]['hits'][k]['denverMatch_rank']\n",
        "      nist_rank = data['records'][i]['spectrumCollections'][0]['spectra'][0]['hits'][k]['nistMatch_rank']\n",
        "      if(cosine_rank <= treshold[j]):\n",
        "        if(int(data['records'][i]['spectrumCollections'][0]['spectra'][0]['hits'][k]['InChIKey_hits']) == data['records'][i]['InChIKey']):\n",
        "          TPc = TPc + 1\n",
        "        else:\n",
        "          FPc = FPc + 1\n",
        "      if(denver_rank <= treshold[j]):\n",
        "        if(int(data['records'][i]['spectrumCollections'][0]['spectra'][0]['hits'][k]['InChIKey_hits']) == data['records'][i]['InChIKey']):\n",
        "          TPd = TPd + 1\n",
        "        else:\n",
        "          FPd = FPd + 1\n",
        "      if(nist_rank <= treshold[j]):\n",
        "        if(int(data['records'][i]['spectrumCollections'][0]['spectra'][0]['hits'][k]['InChIKey_hits']) == data['records'][i]['InChIKey']):\n",
        "          TPn = TPn + 1\n",
        "        else:\n",
        "          FPn = FPn + 1\n",
        "\n",
        "    TPRc[j] = TPc/(TPc + FPc)\n",
        "    TPRd[j] = TPd/(TPd + FPd)\n",
        "    TPRn[j] = TPn/(TPn + FPn)\n",
        "\n",
        "TPRc\n",
        "#TPRd\n",
        "#TPRn\n"
      ],
      "metadata": {
        "id": "O3PtVNu45Hwv",
        "colab": {
          "base_uri": "https://localhost:8080/"
        },
        "outputId": "e50f4c96-0037-4828-8aaa-20f10bca8a51"
      },
      "execution_count": 118,
      "outputs": [
        {
          "output_type": "execute_result",
          "data": {
            "text/plain": [
              "[0.7263157894736842,\n",
              " 0.7202380952380952,\n",
              " 0.6487804878048781,\n",
              " 0.6068376068376068,\n",
              " 0.5863453815261044,\n",
              " 0.573076923076923,\n",
              " 0.5617977528089888,\n",
              " 0.5531135531135531,\n",
              " 0.5467625899280576,\n",
              " 0.5406360424028268,\n",
              " 0.5331010452961672,\n",
              " 0.5292096219931272,\n",
              " 0.5220338983050847,\n",
              " 0.5185185185185185,\n",
              " 0.5167785234899329,\n",
              " 0.5150501672240803,\n",
              " 0.5133333333333333]"
            ]
          },
          "metadata": {},
          "execution_count": 118
        }
      ]
    },
    {
      "cell_type": "code",
      "source": [
        "np.array((TPRc,TPRd,TPRn)).T"
      ],
      "metadata": {
        "colab": {
          "base_uri": "https://localhost:8080/"
        },
        "id": "9KVpx-MFJhMm",
        "outputId": "e4bedbec-9565-4572-d01a-ae4d79d04023"
      },
      "execution_count": 119,
      "outputs": [
        {
          "output_type": "execute_result",
          "data": {
            "text/plain": [
              "array([[0.72631579, 0.73684211, 0.72631579],\n",
              "       [0.7202381 , 0.70238095, 0.70238095],\n",
              "       [0.64878049, 0.65853659, 0.66829268],\n",
              "       [0.60683761, 0.61965812, 0.62393162],\n",
              "       [0.58634538, 0.59839357, 0.59437751],\n",
              "       [0.57307692, 0.58461538, 0.57692308],\n",
              "       [0.56179775, 0.56928839, 0.56554307],\n",
              "       [0.55311355, 0.55677656, 0.55677656],\n",
              "       [0.54676259, 0.55035971, 0.55035971],\n",
              "       [0.54063604, 0.54416961, 0.54063604],\n",
              "       [0.53310105, 0.53658537, 0.53658537],\n",
              "       [0.52920962, 0.52920962, 0.52920962],\n",
              "       [0.5220339 , 0.5220339 , 0.5220339 ],\n",
              "       [0.51851852, 0.51851852, 0.51851852],\n",
              "       [0.51677852, 0.51677852, 0.51677852],\n",
              "       [0.51505017, 0.51505017, 0.51505017],\n",
              "       [0.51333333, 0.51333333, 0.51333333]])"
            ]
          },
          "metadata": {},
          "execution_count": 119
        }
      ]
    },
    {
      "cell_type": "code",
      "source": [
        "plt.plot(treshold, TPRc, label = \"Cosine rank\")\n",
        "plt.plot(treshold, TPRd, label = \"Denver rank\")\n",
        "plt.plot(treshold, TPRn, label = \"Nist rank\")\n",
        "\n",
        "plt.legend()\n",
        "plt.xlabel('Rank treshold')\n",
        "plt.ylabel('TPR')\n",
        "plt.savefig(\"syntTPvsFP.png\",dpi=600)\n",
        "plt.show()"
      ],
      "metadata": {
        "colab": {
          "base_uri": "https://localhost:8080/",
          "height": 279
        },
        "id": "SCSGgiFQiH4y",
        "outputId": "e0e6da47-76b6-47a9-988e-6272e734a3d2"
      },
      "execution_count": 120,
      "outputs": [
        {
          "output_type": "display_data",
          "data": {
            "text/plain": [
              "<Figure size 432x288 with 1 Axes>"
            ],
            "image/png": "[encoded data removed]"
          },
          "metadata": {
            "needs_background": "light"
          }
        }
      ]
    },
    {
      "cell_type": "markdown",
      "source": [
        "Plot true-positive rate vs. relative rank threshold"
      ],
      "metadata": {
        "id": "TBF997l9KaR5"
      }
    },
    {
      "cell_type": "code",
      "source": [
        "rtreshold = np.linspace(0,1,11)\n",
        "rtreshold"
      ],
      "metadata": {
        "colab": {
          "base_uri": "https://localhost:8080/"
        },
        "id": "9LWkijkQED7x",
        "outputId": "9f710d3d-87c1-4464-d53b-5fb441ea2443"
      },
      "execution_count": 121,
      "outputs": [
        {
          "output_type": "execute_result",
          "data": {
            "text/plain": [
              "array([0. , 0.1, 0.2, 0.3, 0.4, 0.5, 0.6, 0.7, 0.8, 0.9, 1. ])"
            ]
          },
          "metadata": {},
          "execution_count": 121
        }
      ]
    },
    {
      "cell_type": "code",
      "source": [
        "num_of_hits = list(range(len(data_norm)))\n",
        "for i in range(len(data_norm)):\n",
        "  #compute number of hits for each record\n",
        "  num_of_hits[i] = len(data['records'][i]['spectrumCollections'][0]['spectra'][0]['hits'])\n",
        "\n",
        "len(num_of_hits)\n",
        "num_of_hits"
      ],
      "metadata": {
        "id": "2Vc3Js_37R1j",
        "colab": {
          "base_uri": "https://localhost:8080/"
        },
        "outputId": "8ab44c4e-a16e-4760-ae90-27c02d23a681"
      },
      "execution_count": 122,
      "outputs": [
        {
          "output_type": "execute_result",
          "data": {
            "text/plain": [
              "[3,\n",
              " 1,\n",
              " 3,\n",
              " 3,\n",
              " 2,\n",
              " 3,\n",
              " 6,\n",
              " 2,\n",
              " 2,\n",
              " 1,\n",
              " 1,\n",
              " 2,\n",
              " 2,\n",
              " 3,\n",
              " 4,\n",
              " 2,\n",
              " 1,\n",
              " 2,\n",
              " 2,\n",
              " 17,\n",
              " 2,\n",
              " 1,\n",
              " 2,\n",
              " 2,\n",
              " 3,\n",
              " 1,\n",
              " 6,\n",
              " 1,\n",
              " 1,\n",
              " 4,\n",
              " 1,\n",
              " 1,\n",
              " 1,\n",
              " 13,\n",
              " 2,\n",
              " 2,\n",
              " 5,\n",
              " 2,\n",
              " 2,\n",
              " 1,\n",
              " 2,\n",
              " 5,\n",
              " 2,\n",
              " 5,\n",
              " 6,\n",
              " 2,\n",
              " 7,\n",
              " 2,\n",
              " 1,\n",
              " 3,\n",
              " 4,\n",
              " 1,\n",
              " 2,\n",
              " 2,\n",
              " 4,\n",
              " 10,\n",
              " 4,\n",
              " 4,\n",
              " 13,\n",
              " 2,\n",
              " 1,\n",
              " 4,\n",
              " 2,\n",
              " 2,\n",
              " 2,\n",
              " 5,\n",
              " 14,\n",
              " 6,\n",
              " 8,\n",
              " 2,\n",
              " 2,\n",
              " 1,\n",
              " 3,\n",
              " 2,\n",
              " 4,\n",
              " 2,\n",
              " 4,\n",
              " 4,\n",
              " 1,\n",
              " 4,\n",
              " 2,\n",
              " 2,\n",
              " 2,\n",
              " 1,\n",
              " 1,\n",
              " 4,\n",
              " 1,\n",
              " 2,\n",
              " 1,\n",
              " 2,\n",
              " 4,\n",
              " 4,\n",
              " 1,\n",
              " 2,\n",
              " 2]"
            ]
          },
          "metadata": {},
          "execution_count": 122
        }
      ]
    },
    {
      "cell_type": "code",
      "source": [
        "it_cosine = iter(rrank_cosine)\n",
        "sliced_cosine = [list(islice(it_cosine, 0, i)) for i in num_of_hits]\n",
        "#sliced_cosine"
      ],
      "metadata": {
        "id": "YHHh9WFF7Gc4"
      },
      "execution_count": 123,
      "outputs": []
    },
    {
      "cell_type": "code",
      "source": [
        "it_denver = iter(rrank_denver)\n",
        "sliced_denver = [list(islice(it_denver, 0, i)) for i in num_of_hits]\n",
        "#sliced_denver"
      ],
      "metadata": {
        "id": "Zcn6coUH8MUg"
      },
      "execution_count": 124,
      "outputs": []
    },
    {
      "cell_type": "code",
      "source": [
        "it_nist = iter(rrank_nist)\n",
        "sliced_nist = [list(islice(it_nist, 0, i)) for i in num_of_hits]"
      ],
      "metadata": {
        "id": "Y_z4Tpnt8Nwn"
      },
      "execution_count": 125,
      "outputs": []
    },
    {
      "cell_type": "code",
      "source": [
        "TPRcr = list(range(len(rtreshold)))\n",
        "TPRdr = list(range(len(rtreshold)))\n",
        "TPRnr = list(range(len(rtreshold)))\n",
        "\n",
        "for j in range(len(rtreshold)):\n",
        "  TPcr = 0 #number of true-positive hits for cosine relative rank\n",
        "  FPcr = 0 #number of false-positive hits for cosine relative rank\n",
        "  TPdr = 0 #number of true-positive hits for denver relative rank\n",
        "  FPdr = 0 #number of false-positive hits for denver relative rank\n",
        "  TPnr = 0 #number of true-positive hits for nist relative rank\n",
        "  FPnr = 0 #number of false-positive hits for nist relative rank\n",
        "  for i in range(len(data_norm)):\n",
        "    #compute number of hits for each record\n",
        "    n_of_hits = n_of_hits = len(data['records'][i]['spectrumCollections'][0]['spectra'][0]['hits'])\n",
        "    for k in range(n_of_hits):\n",
        "      cosine_rrank = sliced_cosine[i][k]\n",
        "      denver_rrank = sliced_denver[i][k]\n",
        "      nist_rrank = sliced_nist[i][k]\n",
        "      if(cosine_rrank <= rtreshold[j]):\n",
        "        if(int(data['records'][i]['spectrumCollections'][0]['spectra'][0]['hits'][k]['InChIKey_hits']) == data['records'][i]['InChIKey']):\n",
        "          TPcr = TPcr + 1\n",
        "        else:\n",
        "          FPcr = FPcr + 1\n",
        "      if(denver_rrank <= rtreshold[j]):\n",
        "        if(int(data['records'][i]['spectrumCollections'][0]['spectra'][0]['hits'][k]['InChIKey_hits']) == data['records'][i]['InChIKey']):\n",
        "          TPdr = TPdr + 1\n",
        "        else:\n",
        "          FPdr = FPdr + 1\n",
        "      if(nist_rrank <= rtreshold[j]):\n",
        "        if(int(data['records'][i]['spectrumCollections'][0]['spectra'][0]['hits'][k]['InChIKey_hits']) == data['records'][i]['InChIKey']):\n",
        "          TPnr = TPnr + 1\n",
        "        else:\n",
        "          FPnr = FPnr + 1\n",
        "\n",
        "    TPRcr[j] = TPcr/(TPcr + FPcr)\n",
        "    TPRdr[j] = TPdr/(TPdr + FPdr)\n",
        "    TPRnr[j] = TPnr/(TPnr + FPnr)\n",
        "\n",
        "#TPRcr\n",
        "#TPRdr\n",
        "#TPRnr\n"
      ],
      "metadata": {
        "id": "R8-y7-xE8diG"
      },
      "execution_count": 126,
      "outputs": []
    },
    {
      "cell_type": "code",
      "source": [
        "np.array((TPRcr,TPRdr,TPRnr)).T"
      ],
      "metadata": {
        "colab": {
          "base_uri": "https://localhost:8080/"
        },
        "id": "QXQGa82H-cEm",
        "outputId": "2b0a72f8-d3ce-4432-d905-38998d101a82"
      },
      "execution_count": 127,
      "outputs": [
        {
          "output_type": "execute_result",
          "data": {
            "text/plain": [
              "array([[0.72631579, 0.73684211, 0.72631579],\n",
              "       [0.6969697 , 0.70707071, 0.6969697 ],\n",
              "       [0.66666667, 0.66666667, 0.65765766],\n",
              "       [0.6446281 , 0.63636364, 0.62809917],\n",
              "       [0.59183673, 0.59863946, 0.59863946],\n",
              "       [0.5443787 , 0.55029586, 0.56804734],\n",
              "       [0.51955307, 0.54748603, 0.54189944],\n",
              "       [0.51243781, 0.53233831, 0.53731343],\n",
              "       [0.49302326, 0.51162791, 0.51162791],\n",
              "       [0.47533632, 0.49327354, 0.49327354],\n",
              "       [0.51333333, 0.51333333, 0.51333333]])"
            ]
          },
          "metadata": {},
          "execution_count": 127
        }
      ]
    },
    {
      "cell_type": "code",
      "source": [
        "plt.plot(rtreshold, TPRcr, label = \"Cosine relative rank\")\n",
        "plt.plot(rtreshold, TPRdr, label = \"Denver relative rank\")\n",
        "plt.plot(rtreshold, TPRnr, label = \"Nist relative rank\")\n",
        "\n",
        "plt.legend()\n",
        "plt.xlabel('Relative rank treshold')\n",
        "plt.ylabel('TPR')\n",
        "plt.savefig(\"syntTPvsFPRelRank.png\",dpi=600)\n",
        "plt.show()"
      ],
      "metadata": {
        "colab": {
          "base_uri": "https://localhost:8080/",
          "height": 279
        },
        "id": "z6IRA35D-uOr",
        "outputId": "3100e940-630e-41fe-b6c3-56dd0527cef0"
      },
      "execution_count": 128,
      "outputs": [
        {
          "output_type": "display_data",
          "data": {
            "text/plain": [
              "<Figure size 432x288 with 1 Axes>"
            ],
            "image/png": "[encoded data removed]"
          },
          "metadata": {
            "needs_background": "light"
          }
        }
      ]
    }
  ]
}