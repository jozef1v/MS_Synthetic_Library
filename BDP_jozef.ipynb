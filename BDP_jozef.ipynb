{
  "nbformat": 4,
  "nbformat_minor": 0,
  "metadata": {
    "colab": {
      "provenance": []
    },
    "kernelspec": {
      "name": "python3",
      "display_name": "Python 3"
    },
    "language_info": {
      "name": "python"
    }
  },
  "cells": [
    {
      "cell_type": "code",
      "source": [
        "from google.colab import drive\n",
        "drive.mount('/content/drive')"
      ],
      "metadata": {
        "colab": {
          "base_uri": "https://localhost:8080/"
        },
        "id": "7bNaZdeoKeuG",
        "outputId": "ffa6e334-b0d5-4028-bebe-d2e0bbac7aff"
      },
      "execution_count": 1,
      "outputs": [
        {
          "output_type": "stream",
          "name": "stdout",
          "text": [
            "Mounted at /content/drive\n"
          ]
        }
      ]
    },
    {
      "cell_type": "code",
      "source": [
        "%cd drive/MyDrive/Colab Notebooks"
      ],
      "metadata": {
        "colab": {
          "base_uri": "https://localhost:8080/"
        },
        "id": "P7igAYLsKoA_",
        "outputId": "54f707e3-af5a-47bb-88cc-7c940a209e56"
      },
      "execution_count": 2,
      "outputs": [
        {
          "output_type": "stream",
          "name": "stdout",
          "text": [
            "/content/drive/MyDrive/Colab Notebooks\n"
          ]
        }
      ]
    },
    {
      "cell_type": "markdown",
      "source": [
        "<br>Load libraries"
      ],
      "metadata": {
        "id": "-Evk0VMynuu7"
      }
    },
    {
      "cell_type": "code",
      "source": [
        "import pandas as pd\n",
        "import pprint\n",
        "import numpy as np\n",
        "import matplotlib.pyplot as plt"
      ],
      "metadata": {
        "id": "dyqjGJi0LX2n"
      },
      "execution_count": 3,
      "outputs": []
    },
    {
      "cell_type": "markdown",
      "source": [
        "<br>Load data"
      ],
      "metadata": {
        "id": "DqCJnOjGn3Re"
      }
    },
    {
      "cell_type": "code",
      "source": [
        "barcode = pd.read_json(\"barcode_search_results.json\")\n",
        "synthetic = pd.read_json(\"synthetic_search_results.json\")"
      ],
      "metadata": {
        "id": "klQmP4PPLeMc"
      },
      "execution_count": 4,
      "outputs": []
    },
    {
      "cell_type": "markdown",
      "source": [
        "<br>"
      ],
      "metadata": {
        "id": "l_qD3jU2rGPU"
      }
    },
    {
      "cell_type": "markdown",
      "source": [
        "## Transform II.\n",
        "Loads all InChIKeys, InChIKey hits and detects True-positive (TP) or False-positive (FP) hits (binary column)."
      ],
      "metadata": {
        "id": "352a2XPio4QU"
      }
    },
    {
      "cell_type": "code",
      "source": [
        "def InChIKeys(file_data):\n",
        "  InChIKey = [[i['InChIKey'],int(j['InChIKey_hits']),\n",
        "               i['InChIKey']==int(j['InChIKey_hits'])]\n",
        "              for i in file_data['records']\n",
        "              for j in i['spectrumCollections'][0]['spectra'][0]['hits']]\n",
        "  InChIKey = pd.DataFrame({'InChIKey':[row[0] for row in InChIKey],\n",
        "                         'InChIKey_hits':[row[1] for row in InChIKey],\n",
        "                         'Positivity':[row[2] for row in InChIKey]})\n",
        "  return InChIKey"
      ],
      "metadata": {
        "id": "KC8H4Xjym3OW"
      },
      "execution_count": 5,
      "outputs": []
    },
    {
      "cell_type": "markdown",
      "source": [
        "<br>"
      ],
      "metadata": {
        "id": "IJwOt9A_tp3D"
      }
    },
    {
      "cell_type": "markdown",
      "source": [
        "## Transform IV.\n",
        "Group TP and FP hits for each record."
      ],
      "metadata": {
        "id": "N6SQZK7ctrbD"
      }
    },
    {
      "cell_type": "code",
      "source": [
        "def number_TP_FP(InChIKey):\n",
        "  number = InChIKey.groupby(['InChIKey','Positivity']).count()\n",
        "  return number"
      ],
      "metadata": {
        "id": "_sUDps2PrSdu"
      },
      "execution_count": 6,
      "outputs": []
    },
    {
      "cell_type": "markdown",
      "source": [
        "<br>Function for printing InChIKey data"
      ],
      "metadata": {
        "id": "ZX1vLXN_o8XQ"
      }
    },
    {
      "cell_type": "code",
      "source": [
        "def disp(InChIKey,number):\n",
        "  print(InChIKey)\n",
        "  all_InChIKey = len(InChIKey.groupby('InChIKey').count())\n",
        "  true_positive = len(InChIKey.loc[InChIKey['Positivity'] == True ].groupby(['InChIKey','Positivity']).count())\n",
        "  false_positive = all_InChIKey - true_positive\n",
        "  print(\"\\n==========================================================================\")\n",
        "  print(f\"Number of all InChIKey: {all_InChIKey}\")\n",
        "  print(f\"Number of all true-positive (at least one hit per record was positive): {true_positive}\")\n",
        "  print(f\"Number of all true-positive (relative value): {round(true_positive/all_InChIKey*100,2)} %\")\n",
        "  print(f\"Number of all false-positive (all hits per record were negative): {false_positive}\")\n",
        "  print(f\"Number of all false-positive (relative value): {round(false_positive/all_InChIKey*100,2)} %\")\n",
        "  print(\"==========================================================================\\n\")\n",
        "  print(number)"
      ],
      "metadata": {
        "id": "nFhrIBaSnq-D"
      },
      "execution_count": 7,
      "outputs": []
    },
    {
      "cell_type": "markdown",
      "source": [
        "<br>Barcode data"
      ],
      "metadata": {
        "id": "UANOVOIQuxmT"
      }
    },
    {
      "cell_type": "code",
      "source": [
        "disp(InChIKeys(barcode),number_TP_FP(InChIKeys(barcode)))"
      ],
      "metadata": {
        "colab": {
          "base_uri": "https://localhost:8080/"
        },
        "id": "NqorieV2u09E",
        "outputId": "39011cb6-90ed-4463-d839-e07730e1f400"
      },
      "execution_count": 8,
      "outputs": [
        {
          "output_type": "stream",
          "name": "stdout",
          "text": [
            "     InChIKey  InChIKey_hits  Positivity\n",
            "0          33             33        True\n",
            "1          33             27       False\n",
            "2          24             24        True\n",
            "3          44             37       False\n",
            "4          44             44        True\n",
            "..        ...            ...         ...\n",
            "262        81             52       False\n",
            "263        81             81        True\n",
            "264        81             75       False\n",
            "265        34             34        True\n",
            "266        34             69       False\n",
            "\n",
            "[267 rows x 3 columns]\n",
            "\n",
            "==========================================================================\n",
            "Number of all InChIKey: 94\n",
            "Number of all true-positive (at least one hit per record was positive): 88\n",
            "Number of all true-positive (relative value): 93.62 %\n",
            "Number of all false-positive (all hits per record were negative): 6\n",
            "Number of all false-positive (relative value): 6.38 %\n",
            "==========================================================================\n",
            "\n",
            "                     InChIKey_hits\n",
            "InChIKey Positivity               \n",
            "0        True                    1\n",
            "1        True                    1\n",
            "2        True                    1\n",
            "3        False                   2\n",
            "         True                    1\n",
            "...                            ...\n",
            "91       True                    1\n",
            "92       True                    1\n",
            "93       False                   1\n",
            "         True                    1\n",
            "94       True                    1\n",
            "\n",
            "[138 rows x 1 columns]\n"
          ]
        }
      ]
    },
    {
      "cell_type": "markdown",
      "source": [
        "<br>Synthetic data"
      ],
      "metadata": {
        "id": "JmiopgTiu_HM"
      }
    },
    {
      "cell_type": "code",
      "source": [
        "disp(InChIKeys(synthetic),number_TP_FP(InChIKeys(synthetic)))"
      ],
      "metadata": {
        "colab": {
          "base_uri": "https://localhost:8080/"
        },
        "id": "FFSs8m68vAj4",
        "outputId": "048b6b9c-75d0-47fe-9daf-21be2c6fd8fd"
      },
      "execution_count": 9,
      "outputs": [
        {
          "output_type": "stream",
          "name": "stdout",
          "text": [
            "     InChIKey  InChIKey_hits  Positivity\n",
            "0          33             33        True\n",
            "1          33             27       False\n",
            "2          33             27       False\n",
            "3          24             24        True\n",
            "4          44             44        True\n",
            "..        ...            ...         ...\n",
            "295        46             46        True\n",
            "296        81             75       False\n",
            "297        81             52       False\n",
            "298        34             34        True\n",
            "299        34             34        True\n",
            "\n",
            "[300 rows x 3 columns]\n",
            "\n",
            "==========================================================================\n",
            "Number of all InChIKey: 95\n",
            "Number of all true-positive (at least one hit per record was positive): 85\n",
            "Number of all true-positive (relative value): 89.47 %\n",
            "Number of all false-positive (all hits per record were negative): 10\n",
            "Number of all false-positive (relative value): 10.53 %\n",
            "==========================================================================\n",
            "\n",
            "                     InChIKey_hits\n",
            "InChIKey Positivity               \n",
            "0        True                    2\n",
            "1        True                    2\n",
            "2        True                    1\n",
            "3        False                   4\n",
            "         True                    1\n",
            "...                            ...\n",
            "91       True                    2\n",
            "92       True                    2\n",
            "93       False                   6\n",
            "         True                    1\n",
            "94       True                    1\n",
            "\n",
            "[131 rows x 1 columns]\n"
          ]
        }
      ]
    },
    {
      "cell_type": "markdown",
      "source": [
        "<br>"
      ],
      "metadata": {
        "id": "fe3C7Uvm73M6"
      }
    },
    {
      "cell_type": "markdown",
      "source": [
        "## Transform III.\n",
        "Loads all Metadata, Metadata hits and calculates their absolute difference."
      ],
      "metadata": {
        "id": "kL5YNqaBK_qm"
      }
    },
    {
      "cell_type": "code",
      "source": [
        "def Metadatas(file):\n",
        "\n",
        "  # Load Metadata\n",
        "  Metadata = [[float(j['metadata']['metadata.analyzer']),\n",
        "             float(j['metadata']['metadata.polarity']),\n",
        "             j['metadata']['metadata.scanRangeMax'],\n",
        "             j['metadata']['metadata.scanRangeMin'],\n",
        "             j['metadata']['msStageTarget'],\n",
        "             j['metadata']['nce'],\n",
        "             float(j['metadata']['ionActivation']),\n",
        "             float(k['metadata']['metadata.analyzer_hits']),\n",
        "             float(k['metadata']['metadata.polarity_hits']),\n",
        "             k['metadata']['metadata.scanRangeMax_hits'],\n",
        "             k['metadata']['metadata.scanRangeMin_hits'],\n",
        "             k['metadata']['msStageTarget_hits'],\n",
        "             k['metadata']['nce_hits'],\n",
        "             float(k['metadata']['ionActivation_hits'])]\n",
        "            for i in file['records']\n",
        "            for j in i['spectrumCollections'][0]['spectra']\n",
        "            for k in i['spectrumCollections'][0]['spectra'][0]['hits']]\n",
        "\n",
        "  # Metadata values\n",
        "  Values = pd.DataFrame({'Analyzer':[row[0] for row in Metadata],\n",
        "                         'Polarity':[row[1] for row in Metadata],\n",
        "                         'ScanRangeMax':[row[2] for row in Metadata],\n",
        "                         'ScanRangeMin':[row[3] for row in Metadata],\n",
        "                         'MsStageTarget':[row[4] for row in Metadata],\n",
        "                         'NCE':[row[5] for row in Metadata],\n",
        "                         'IonActivation':[row[6] for row in Metadata]})\n",
        "  \n",
        "  # Metadata hit values\n",
        "  Hits = pd.DataFrame({'Analyzer':[row[7] for row in Metadata],\n",
        "                       'Polarity':[row[8] for row in Metadata],\n",
        "                       'ScanRangeMax':[row[9] for row in Metadata],\n",
        "                       'ScanRangeMin':[row[10] for row in Metadata],\n",
        "                       'MsStageTarget':[row[11] for row in Metadata],\n",
        "                       'NCE':[row[12] for row in Metadata],\n",
        "                       'IonActivation':[row[13] for row in Metadata]})\n",
        "\n",
        "  # Absolute differences\n",
        "  Differences = pd.DataFrame({'Analyzer':[abs(row[0]-row[7]) for row in Metadata],\n",
        "                            'Polarity':[abs(row[1]-row[8]) for row in Metadata],\n",
        "                            'ScanRangeMax':[abs(row[2]-row[9]) for row in Metadata],\n",
        "                            'ScanRangeMin':[abs(row[3]-row[10]) for row in Metadata],\n",
        "                            'MsStageTarget':[abs(row[4]-row[11]) for row in Metadata],\n",
        "                            'NCE':[abs(row[5]-row[12]) for row in Metadata],\n",
        "                            'IonActivation':[abs(row[6]-row[13]) for row in Metadata]})\n",
        "  return Differences, Values, Hits"
      ],
      "metadata": {
        "id": "zecIrUIqvuf6"
      },
      "execution_count": 10,
      "outputs": []
    },
    {
      "cell_type": "markdown",
      "source": [
        "<br>"
      ],
      "metadata": {
        "id": "y2oHZy8J78ci"
      }
    },
    {
      "cell_type": "markdown",
      "source": [
        "### Barcode Metadata\n",
        "Absolute difference of Metadata and its hit."
      ],
      "metadata": {
        "id": "TZgrUas-w8el"
      }
    },
    {
      "cell_type": "code",
      "source": [
        "[Differences, Values, Hits] = Metadatas(barcode)\n",
        "Differences"
      ],
      "metadata": {
        "colab": {
          "base_uri": "https://localhost:8080/",
          "height": 423
        },
        "id": "fslvzrrlxEjn",
        "outputId": "49a280b9-03e7-4b4c-b101-645977536cb5"
      },
      "execution_count": 11,
      "outputs": [
        {
          "output_type": "execute_result",
          "data": {
            "text/plain": [
              "     Analyzer  Polarity  ScanRangeMax  ScanRangeMin  MsStageTarget       NCE  \\\n",
              "0         1.0       0.0      0.194655           0.0            0.0  0.052632   \n",
              "1         1.0       0.0      0.194655           0.0            0.0  0.052632   \n",
              "2         1.0       0.0      0.194821           0.0            0.0  0.052632   \n",
              "3         1.0       0.0      0.194512           0.0            0.0  0.026316   \n",
              "4         1.0       0.0      0.194512           0.0            0.0  0.026316   \n",
              "..        ...       ...           ...           ...            ...       ...   \n",
              "262       1.0       0.0      0.113339           0.0            0.0  0.000000   \n",
              "263       1.0       0.0      0.113339           0.0            0.0  0.000000   \n",
              "264       1.0       0.0      0.113339           0.0            0.0  0.000000   \n",
              "265       1.0       0.0      0.113322           0.0            0.0  0.052632   \n",
              "266       1.0       0.0      0.113322           0.0            0.0  0.052632   \n",
              "\n",
              "     IonActivation  \n",
              "0              1.0  \n",
              "1              1.0  \n",
              "2              0.0  \n",
              "3              1.0  \n",
              "4              1.0  \n",
              "..             ...  \n",
              "262            0.0  \n",
              "263            0.0  \n",
              "264            0.0  \n",
              "265            0.0  \n",
              "266            0.0  \n",
              "\n",
              "[267 rows x 7 columns]"
            ],
            "text/html": [
              "\n",
              "  <div id=\"df-82080856-a030-49f6-8fbc-a1f9ac9f658f\">\n",
              "    <div class=\"colab-df-container\">\n",
              "      <div>\n",
              "<style scoped>\n",
              "    .dataframe tbody tr th:only-of-type {\n",
              "        vertical-align: middle;\n",
              "    }\n",
              "\n",
              "    .dataframe tbody tr th {\n",
              "        vertical-align: top;\n",
              "    }\n",
              "\n",
              "    .dataframe thead th {\n",
              "        text-align: right;\n",
              "    }\n",
              "</style>\n",
              "<table border=\"1\" class=\"dataframe\">\n",
              "  <thead>\n",
              "    <tr style=\"text-align: right;\">\n",
              "      <th></th>\n",
              "      <th>Analyzer</th>\n",
              "      <th>Polarity</th>\n",
              "      <th>ScanRangeMax</th>\n",
              "      <th>ScanRangeMin</th>\n",
              "      <th>MsStageTarget</th>\n",
              "      <th>NCE</th>\n",
              "      <th>IonActivation</th>\n",
              "    </tr>\n",
              "  </thead>\n",
              "  <tbody>\n",
              "    <tr>\n",
              "      <th>0</th>\n",
              "      <td>1.0</td>\n",
              "      <td>0.0</td>\n",
              "      <td>0.194655</td>\n",
              "      <td>0.0</td>\n",
              "      <td>0.0</td>\n",
              "      <td>0.052632</td>\n",
              "      <td>1.0</td>\n",
              "    </tr>\n",
              "    <tr>\n",
              "      <th>1</th>\n",
              "      <td>1.0</td>\n",
              "      <td>0.0</td>\n",
              "      <td>0.194655</td>\n",
              "      <td>0.0</td>\n",
              "      <td>0.0</td>\n",
              "      <td>0.052632</td>\n",
              "      <td>1.0</td>\n",
              "    </tr>\n",
              "    <tr>\n",
              "      <th>2</th>\n",
              "      <td>1.0</td>\n",
              "      <td>0.0</td>\n",
              "      <td>0.194821</td>\n",
              "      <td>0.0</td>\n",
              "      <td>0.0</td>\n",
              "      <td>0.052632</td>\n",
              "      <td>0.0</td>\n",
              "    </tr>\n",
              "    <tr>\n",
              "      <th>3</th>\n",
              "      <td>1.0</td>\n",
              "      <td>0.0</td>\n",
              "      <td>0.194512</td>\n",
              "      <td>0.0</td>\n",
              "      <td>0.0</td>\n",
              "      <td>0.026316</td>\n",
              "      <td>1.0</td>\n",
              "    </tr>\n",
              "    <tr>\n",
              "      <th>4</th>\n",
              "      <td>1.0</td>\n",
              "      <td>0.0</td>\n",
              "      <td>0.194512</td>\n",
              "      <td>0.0</td>\n",
              "      <td>0.0</td>\n",
              "      <td>0.026316</td>\n",
              "      <td>1.0</td>\n",
              "    </tr>\n",
              "    <tr>\n",
              "      <th>...</th>\n",
              "      <td>...</td>\n",
              "      <td>...</td>\n",
              "      <td>...</td>\n",
              "      <td>...</td>\n",
              "      <td>...</td>\n",
              "      <td>...</td>\n",
              "      <td>...</td>\n",
              "    </tr>\n",
              "    <tr>\n",
              "      <th>262</th>\n",
              "      <td>1.0</td>\n",
              "      <td>0.0</td>\n",
              "      <td>0.113339</td>\n",
              "      <td>0.0</td>\n",
              "      <td>0.0</td>\n",
              "      <td>0.000000</td>\n",
              "      <td>0.0</td>\n",
              "    </tr>\n",
              "    <tr>\n",
              "      <th>263</th>\n",
              "      <td>1.0</td>\n",
              "      <td>0.0</td>\n",
              "      <td>0.113339</td>\n",
              "      <td>0.0</td>\n",
              "      <td>0.0</td>\n",
              "      <td>0.000000</td>\n",
              "      <td>0.0</td>\n",
              "    </tr>\n",
              "    <tr>\n",
              "      <th>264</th>\n",
              "      <td>1.0</td>\n",
              "      <td>0.0</td>\n",
              "      <td>0.113339</td>\n",
              "      <td>0.0</td>\n",
              "      <td>0.0</td>\n",
              "      <td>0.000000</td>\n",
              "      <td>0.0</td>\n",
              "    </tr>\n",
              "    <tr>\n",
              "      <th>265</th>\n",
              "      <td>1.0</td>\n",
              "      <td>0.0</td>\n",
              "      <td>0.113322</td>\n",
              "      <td>0.0</td>\n",
              "      <td>0.0</td>\n",
              "      <td>0.052632</td>\n",
              "      <td>0.0</td>\n",
              "    </tr>\n",
              "    <tr>\n",
              "      <th>266</th>\n",
              "      <td>1.0</td>\n",
              "      <td>0.0</td>\n",
              "      <td>0.113322</td>\n",
              "      <td>0.0</td>\n",
              "      <td>0.0</td>\n",
              "      <td>0.052632</td>\n",
              "      <td>0.0</td>\n",
              "    </tr>\n",
              "  </tbody>\n",
              "</table>\n",
              "<p>267 rows × 7 columns</p>\n",
              "</div>\n",
              "      <button class=\"colab-df-convert\" onclick=\"convertToInteractive('df-82080856-a030-49f6-8fbc-a1f9ac9f658f')\"\n",
              "              title=\"Convert this dataframe to an interactive table.\"\n",
              "              style=\"display:none;\">\n",
              "        \n",
              "  <svg xmlns=\"http://www.w3.org/2000/svg\" height=\"24px\"viewBox=\"0 0 24 24\"\n",
              "       width=\"24px\">\n",
              "    <path d=\"M0 0h24v24H0V0z\" fill=\"none\"/>\n",
              "    <path d=\"M18.56 5.44l.94 2.06.94-2.06 2.06-.94-2.06-.94-.94-2.06-.94 2.06-2.06.94zm-11 1L8.5 8.5l.94-2.06 2.06-.94-2.06-.94L8.5 2.5l-.94 2.06-2.06.94zm10 10l.94 2.06.94-2.06 2.06-.94-2.06-.94-.94-2.06-.94 2.06-2.06.94z\"/><path d=\"M17.41 7.96l-1.37-1.37c-.4-.4-.92-.59-1.43-.59-.52 0-1.04.2-1.43.59L10.3 9.45l-7.72 7.72c-.78.78-.78 2.05 0 2.83L4 21.41c.39.39.9.59 1.41.59.51 0 1.02-.2 1.41-.59l7.78-7.78 2.81-2.81c.8-.78.8-2.07 0-2.86zM5.41 20L4 18.59l7.72-7.72 1.47 1.35L5.41 20z\"/>\n",
              "  </svg>\n",
              "      </button>\n",
              "      \n",
              "  <style>\n",
              "    .colab-df-container {\n",
              "      display:flex;\n",
              "      flex-wrap:wrap;\n",
              "      gap: 12px;\n",
              "    }\n",
              "\n",
              "    .colab-df-convert {\n",
              "      background-color: #E8F0FE;\n",
              "      border: none;\n",
              "      border-radius: 50%;\n",
              "      cursor: pointer;\n",
              "      display: none;\n",
              "      fill: #1967D2;\n",
              "      height: 32px;\n",
              "      padding: 0 0 0 0;\n",
              "      width: 32px;\n",
              "    }\n",
              "\n",
              "    .colab-df-convert:hover {\n",
              "      background-color: #E2EBFA;\n",
              "      box-shadow: 0px 1px 2px rgba(60, 64, 67, 0.3), 0px 1px 3px 1px rgba(60, 64, 67, 0.15);\n",
              "      fill: #174EA6;\n",
              "    }\n",
              "\n",
              "    [theme=dark] .colab-df-convert {\n",
              "      background-color: #3B4455;\n",
              "      fill: #D2E3FC;\n",
              "    }\n",
              "\n",
              "    [theme=dark] .colab-df-convert:hover {\n",
              "      background-color: #434B5C;\n",
              "      box-shadow: 0px 1px 3px 1px rgba(0, 0, 0, 0.15);\n",
              "      filter: drop-shadow(0px 1px 2px rgba(0, 0, 0, 0.3));\n",
              "      fill: #FFFFFF;\n",
              "    }\n",
              "  </style>\n",
              "\n",
              "      <script>\n",
              "        const buttonEl =\n",
              "          document.querySelector('#df-82080856-a030-49f6-8fbc-a1f9ac9f658f button.colab-df-convert');\n",
              "        buttonEl.style.display =\n",
              "          google.colab.kernel.accessAllowed ? 'block' : 'none';\n",
              "\n",
              "        async function convertToInteractive(key) {\n",
              "          const element = document.querySelector('#df-82080856-a030-49f6-8fbc-a1f9ac9f658f');\n",
              "          const dataTable =\n",
              "            await google.colab.kernel.invokeFunction('convertToInteractive',\n",
              "                                                     [key], {});\n",
              "          if (!dataTable) return;\n",
              "\n",
              "          const docLinkHtml = 'Like what you see? Visit the ' +\n",
              "            '<a target=\"_blank\" href=https://colab.research.google.com/notebooks/data_table.ipynb>data table notebook</a>'\n",
              "            + ' to learn more about interactive tables.';\n",
              "          element.innerHTML = '';\n",
              "          dataTable['output_type'] = 'display_data';\n",
              "          await google.colab.output.renderOutput(dataTable, element);\n",
              "          const docLink = document.createElement('div');\n",
              "          docLink.innerHTML = docLinkHtml;\n",
              "          element.appendChild(docLink);\n",
              "        }\n",
              "      </script>\n",
              "    </div>\n",
              "  </div>\n",
              "  "
            ]
          },
          "metadata": {},
          "execution_count": 11
        }
      ]
    },
    {
      "cell_type": "markdown",
      "source": [
        "<br>"
      ],
      "metadata": {
        "id": "xpeswJ0f8BJ_"
      }
    },
    {
      "cell_type": "markdown",
      "source": [
        "### Synthetic Metadata\n",
        "Absolute difference of Metadata and its hit."
      ],
      "metadata": {
        "id": "tv1u1VbKxp74"
      }
    },
    {
      "cell_type": "code",
      "source": [
        "[Differences, Values, Hits] = Metadatas(synthetic)\n",
        "Differences"
      ],
      "metadata": {
        "colab": {
          "base_uri": "https://localhost:8080/",
          "height": 423
        },
        "id": "7T5SHWzDxubV",
        "outputId": "670e5012-431e-4f57-d438-c556bb574db3"
      },
      "execution_count": 12,
      "outputs": [
        {
          "output_type": "execute_result",
          "data": {
            "text/plain": [
              "     Analyzer  Polarity  ScanRangeMax  ScanRangeMin  MsStageTarget       NCE  \\\n",
              "0         1.0       0.0      0.194655           0.0            0.0  0.157895   \n",
              "1         1.0       0.0      0.194655           0.0            0.0  0.157895   \n",
              "2         1.0       0.0      0.194655           0.0            0.0  0.026316   \n",
              "3         1.0       0.0      0.194821           0.0            0.0  0.078947   \n",
              "4         1.0       0.0      0.194512           0.0            0.0  0.210526   \n",
              "..        ...       ...           ...           ...            ...       ...   \n",
              "295       1.0       0.0      0.113277           0.0            0.0  0.236842   \n",
              "296       1.0       0.0      0.113339           0.0            0.0  0.184211   \n",
              "297       1.0       0.0      0.113339           0.0            0.0  0.000000   \n",
              "298       1.0       0.0      0.113322           0.0            0.0  0.289474   \n",
              "299       1.0       0.0      0.113322           0.0            0.0  0.105263   \n",
              "\n",
              "     IonActivation  \n",
              "0              1.0  \n",
              "1              1.0  \n",
              "2              1.0  \n",
              "3              0.0  \n",
              "4              0.0  \n",
              "..             ...  \n",
              "295            0.0  \n",
              "296            0.0  \n",
              "297            0.0  \n",
              "298            0.0  \n",
              "299            0.0  \n",
              "\n",
              "[300 rows x 7 columns]"
            ],
            "text/html": [
              "\n",
              "  <div id=\"df-793d370c-4041-479e-840a-927ebf56960b\">\n",
              "    <div class=\"colab-df-container\">\n",
              "      <div>\n",
              "<style scoped>\n",
              "    .dataframe tbody tr th:only-of-type {\n",
              "        vertical-align: middle;\n",
              "    }\n",
              "\n",
              "    .dataframe tbody tr th {\n",
              "        vertical-align: top;\n",
              "    }\n",
              "\n",
              "    .dataframe thead th {\n",
              "        text-align: right;\n",
              "    }\n",
              "</style>\n",
              "<table border=\"1\" class=\"dataframe\">\n",
              "  <thead>\n",
              "    <tr style=\"text-align: right;\">\n",
              "      <th></th>\n",
              "      <th>Analyzer</th>\n",
              "      <th>Polarity</th>\n",
              "      <th>ScanRangeMax</th>\n",
              "      <th>ScanRangeMin</th>\n",
              "      <th>MsStageTarget</th>\n",
              "      <th>NCE</th>\n",
              "      <th>IonActivation</th>\n",
              "    </tr>\n",
              "  </thead>\n",
              "  <tbody>\n",
              "    <tr>\n",
              "      <th>0</th>\n",
              "      <td>1.0</td>\n",
              "      <td>0.0</td>\n",
              "      <td>0.194655</td>\n",
              "      <td>0.0</td>\n",
              "      <td>0.0</td>\n",
              "      <td>0.157895</td>\n",
              "      <td>1.0</td>\n",
              "    </tr>\n",
              "    <tr>\n",
              "      <th>1</th>\n",
              "      <td>1.0</td>\n",
              "      <td>0.0</td>\n",
              "      <td>0.194655</td>\n",
              "      <td>0.0</td>\n",
              "      <td>0.0</td>\n",
              "      <td>0.157895</td>\n",
              "      <td>1.0</td>\n",
              "    </tr>\n",
              "    <tr>\n",
              "      <th>2</th>\n",
              "      <td>1.0</td>\n",
              "      <td>0.0</td>\n",
              "      <td>0.194655</td>\n",
              "      <td>0.0</td>\n",
              "      <td>0.0</td>\n",
              "      <td>0.026316</td>\n",
              "      <td>1.0</td>\n",
              "    </tr>\n",
              "    <tr>\n",
              "      <th>3</th>\n",
              "      <td>1.0</td>\n",
              "      <td>0.0</td>\n",
              "      <td>0.194821</td>\n",
              "      <td>0.0</td>\n",
              "      <td>0.0</td>\n",
              "      <td>0.078947</td>\n",
              "      <td>0.0</td>\n",
              "    </tr>\n",
              "    <tr>\n",
              "      <th>4</th>\n",
              "      <td>1.0</td>\n",
              "      <td>0.0</td>\n",
              "      <td>0.194512</td>\n",
              "      <td>0.0</td>\n",
              "      <td>0.0</td>\n",
              "      <td>0.210526</td>\n",
              "      <td>0.0</td>\n",
              "    </tr>\n",
              "    <tr>\n",
              "      <th>...</th>\n",
              "      <td>...</td>\n",
              "      <td>...</td>\n",
              "      <td>...</td>\n",
              "      <td>...</td>\n",
              "      <td>...</td>\n",
              "      <td>...</td>\n",
              "      <td>...</td>\n",
              "    </tr>\n",
              "    <tr>\n",
              "      <th>295</th>\n",
              "      <td>1.0</td>\n",
              "      <td>0.0</td>\n",
              "      <td>0.113277</td>\n",
              "      <td>0.0</td>\n",
              "      <td>0.0</td>\n",
              "      <td>0.236842</td>\n",
              "      <td>0.0</td>\n",
              "    </tr>\n",
              "    <tr>\n",
              "      <th>296</th>\n",
              "      <td>1.0</td>\n",
              "      <td>0.0</td>\n",
              "      <td>0.113339</td>\n",
              "      <td>0.0</td>\n",
              "      <td>0.0</td>\n",
              "      <td>0.184211</td>\n",
              "      <td>0.0</td>\n",
              "    </tr>\n",
              "    <tr>\n",
              "      <th>297</th>\n",
              "      <td>1.0</td>\n",
              "      <td>0.0</td>\n",
              "      <td>0.113339</td>\n",
              "      <td>0.0</td>\n",
              "      <td>0.0</td>\n",
              "      <td>0.000000</td>\n",
              "      <td>0.0</td>\n",
              "    </tr>\n",
              "    <tr>\n",
              "      <th>298</th>\n",
              "      <td>1.0</td>\n",
              "      <td>0.0</td>\n",
              "      <td>0.113322</td>\n",
              "      <td>0.0</td>\n",
              "      <td>0.0</td>\n",
              "      <td>0.289474</td>\n",
              "      <td>0.0</td>\n",
              "    </tr>\n",
              "    <tr>\n",
              "      <th>299</th>\n",
              "      <td>1.0</td>\n",
              "      <td>0.0</td>\n",
              "      <td>0.113322</td>\n",
              "      <td>0.0</td>\n",
              "      <td>0.0</td>\n",
              "      <td>0.105263</td>\n",
              "      <td>0.0</td>\n",
              "    </tr>\n",
              "  </tbody>\n",
              "</table>\n",
              "<p>300 rows × 7 columns</p>\n",
              "</div>\n",
              "      <button class=\"colab-df-convert\" onclick=\"convertToInteractive('df-793d370c-4041-479e-840a-927ebf56960b')\"\n",
              "              title=\"Convert this dataframe to an interactive table.\"\n",
              "              style=\"display:none;\">\n",
              "        \n",
              "  <svg xmlns=\"http://www.w3.org/2000/svg\" height=\"24px\"viewBox=\"0 0 24 24\"\n",
              "       width=\"24px\">\n",
              "    <path d=\"M0 0h24v24H0V0z\" fill=\"none\"/>\n",
              "    <path d=\"M18.56 5.44l.94 2.06.94-2.06 2.06-.94-2.06-.94-.94-2.06-.94 2.06-2.06.94zm-11 1L8.5 8.5l.94-2.06 2.06-.94-2.06-.94L8.5 2.5l-.94 2.06-2.06.94zm10 10l.94 2.06.94-2.06 2.06-.94-2.06-.94-.94-2.06-.94 2.06-2.06.94z\"/><path d=\"M17.41 7.96l-1.37-1.37c-.4-.4-.92-.59-1.43-.59-.52 0-1.04.2-1.43.59L10.3 9.45l-7.72 7.72c-.78.78-.78 2.05 0 2.83L4 21.41c.39.39.9.59 1.41.59.51 0 1.02-.2 1.41-.59l7.78-7.78 2.81-2.81c.8-.78.8-2.07 0-2.86zM5.41 20L4 18.59l7.72-7.72 1.47 1.35L5.41 20z\"/>\n",
              "  </svg>\n",
              "      </button>\n",
              "      \n",
              "  <style>\n",
              "    .colab-df-container {\n",
              "      display:flex;\n",
              "      flex-wrap:wrap;\n",
              "      gap: 12px;\n",
              "    }\n",
              "\n",
              "    .colab-df-convert {\n",
              "      background-color: #E8F0FE;\n",
              "      border: none;\n",
              "      border-radius: 50%;\n",
              "      cursor: pointer;\n",
              "      display: none;\n",
              "      fill: #1967D2;\n",
              "      height: 32px;\n",
              "      padding: 0 0 0 0;\n",
              "      width: 32px;\n",
              "    }\n",
              "\n",
              "    .colab-df-convert:hover {\n",
              "      background-color: #E2EBFA;\n",
              "      box-shadow: 0px 1px 2px rgba(60, 64, 67, 0.3), 0px 1px 3px 1px rgba(60, 64, 67, 0.15);\n",
              "      fill: #174EA6;\n",
              "    }\n",
              "\n",
              "    [theme=dark] .colab-df-convert {\n",
              "      background-color: #3B4455;\n",
              "      fill: #D2E3FC;\n",
              "    }\n",
              "\n",
              "    [theme=dark] .colab-df-convert:hover {\n",
              "      background-color: #434B5C;\n",
              "      box-shadow: 0px 1px 3px 1px rgba(0, 0, 0, 0.15);\n",
              "      filter: drop-shadow(0px 1px 2px rgba(0, 0, 0, 0.3));\n",
              "      fill: #FFFFFF;\n",
              "    }\n",
              "  </style>\n",
              "\n",
              "      <script>\n",
              "        const buttonEl =\n",
              "          document.querySelector('#df-793d370c-4041-479e-840a-927ebf56960b button.colab-df-convert');\n",
              "        buttonEl.style.display =\n",
              "          google.colab.kernel.accessAllowed ? 'block' : 'none';\n",
              "\n",
              "        async function convertToInteractive(key) {\n",
              "          const element = document.querySelector('#df-793d370c-4041-479e-840a-927ebf56960b');\n",
              "          const dataTable =\n",
              "            await google.colab.kernel.invokeFunction('convertToInteractive',\n",
              "                                                     [key], {});\n",
              "          if (!dataTable) return;\n",
              "\n",
              "          const docLinkHtml = 'Like what you see? Visit the ' +\n",
              "            '<a target=\"_blank\" href=https://colab.research.google.com/notebooks/data_table.ipynb>data table notebook</a>'\n",
              "            + ' to learn more about interactive tables.';\n",
              "          element.innerHTML = '';\n",
              "          dataTable['output_type'] = 'display_data';\n",
              "          await google.colab.output.renderOutput(dataTable, element);\n",
              "          const docLink = document.createElement('div');\n",
              "          docLink.innerHTML = docLinkHtml;\n",
              "          element.appendChild(docLink);\n",
              "        }\n",
              "      </script>\n",
              "    </div>\n",
              "  </div>\n",
              "  "
            ]
          },
          "metadata": {},
          "execution_count": 12
        }
      ]
    },
    {
      "cell_type": "markdown",
      "source": [
        "<br>"
      ],
      "metadata": {
        "id": "ER955EO2pnKL"
      }
    },
    {
      "cell_type": "markdown",
      "source": [
        "## Load I.\n",
        "\n",
        "Calculates relative ranks (Cosine, Denver, Nist) and specifies them by TP/FP hits."
      ],
      "metadata": {
        "id": "2Cb4fS9C-FWW"
      }
    },
    {
      "cell_type": "code",
      "source": [
        "def relative_ranks(file,f_type):\n",
        "\n",
        "  # Load file\n",
        "  import json\n",
        "  with open(file) as data_file:    \n",
        "      data = json.load(data_file)  \n",
        "  data_norm = pd.json_normalize(data,record_path=['records'])\n",
        "\n",
        "  # Presets\n",
        "  rrank_cosine, rrank_denver, rrank_nist = [], [], []\n",
        "  cosine_tp, denver_tp, nist_tp = [], [], []\n",
        "  cosine_fp, denver_fp, nist_fp = [], [], []\n",
        "\n",
        "  InChIKey = InChIKeys(f_type)\n",
        "  count = 0\n",
        "\n",
        "  for i in range(len(data_norm)):\n",
        "    \n",
        "    # Number of hits for each record\n",
        "    num_of_hits = len(data['records'][i]['spectrumCollections'][0]['spectra'][0]['hits'])\n",
        "    for k in range(num_of_hits):\n",
        "\n",
        "      # Ranks data\n",
        "      cosine = data['records'][i]['spectrumCollections'][0]['spectra'][0]['hits'][k]['cosineMatch_rank']\n",
        "      denver = data['records'][i]['spectrumCollections'][0]['spectra'][0]['hits'][k]['denverMatch_rank']\n",
        "      nist = data['records'][i]['spectrumCollections'][0]['spectra'][0]['hits'][k]['nistMatch_rank']\n",
        "      \n",
        "      # Relative ranks\n",
        "      if(num_of_hits == 1):\n",
        "        score_cosine, score_denver, score_nist = 0, 0, 0\n",
        "      else:\n",
        "        score_cosine = (cosine - 1) / (num_of_hits - 1)\n",
        "        score_denver = (denver - 1) / (num_of_hits - 1)\n",
        "        score_nist = (nist- 1) / (num_of_hits - 1)\n",
        "\n",
        "      rrank_cosine.append(score_cosine)\n",
        "      rrank_denver.append(score_denver)\n",
        "      rrank_nist.append(score_nist)\n",
        "\n",
        "      # Relative ranks vs. TP/FP hits\n",
        "      if InChIKey['Positivity'][count] == True:\n",
        "        cosine_tp.append(score_cosine)\n",
        "        denver_tp.append(score_denver)\n",
        "        nist_tp.append(score_nist)\n",
        "      else:\n",
        "        cosine_fp.append(score_cosine)\n",
        "        denver_fp.append(score_denver)\n",
        "        nist_fp.append(score_nist)\n",
        "      count += 1\n",
        "\n",
        "  # Output data\n",
        "  rrank = pd.DataFrame({'Cosine': rrank_cosine,\n",
        "                        'Denver': rrank_denver,\n",
        "                        'Nist': rrank_nist})\n",
        "  rank_tp = pd.DataFrame({'Cosine': cosine_tp,\n",
        "                        'Denver': denver_tp,\n",
        "                        'Nist': nist_tp})\n",
        "  rank_fp = pd.DataFrame({'Cosine': cosine_fp,\n",
        "                        'Denver': denver_fp,\n",
        "                        'Nist': nist_fp})\n",
        "  return rrank, rank_tp, rank_fp"
      ],
      "metadata": {
        "id": "x2oqpCUTYlns"
      },
      "execution_count": 13,
      "outputs": []
    },
    {
      "cell_type": "markdown",
      "source": [
        "<br>Plots of TP/FP hits of relative ranks (FP hits lie over TP hits) for Barcode library."
      ],
      "metadata": {
        "id": "DvdzFehP-O_P"
      }
    },
    {
      "cell_type": "code",
      "source": [
        "# Loads ranks\n",
        "[rrank, rank_tp, rank_fp] = relative_ranks('barcode_search_results.json',barcode)\n",
        "\n",
        "# Presets\n",
        "metrics = ['Cosine','Denver','Nist']\n",
        "\n",
        "# Plots histograms\n",
        "for metric in range(len(metrics)):\n",
        "  plt.figure(metric)\n",
        "  plt.hist([rank_tp[metrics[metric]],rank_fp[metrics[metric]]], color=['green','red'],\n",
        "           stacked=True, alpha=0.8, label=['True-positive','False-positive'])\n",
        "  plt.xlabel(\"Relative ranks\")\n",
        "  plt.ylabel(\"TP/FP hits\")\n",
        "  plt.legend(loc='upper right')\n",
        "  plt.savefig(f\"barcode_hist_{metrics[metric]}.png\", dpi=600)\n",
        "plt.show()"
      ],
      "metadata": {
        "colab": {
          "base_uri": "https://localhost:8080/",
          "height": 892
        },
        "id": "6jlg3nxM-HXD",
        "outputId": "be3f2500-a3ad-457c-c096-23689c649389"
      },
      "execution_count": 42,
      "outputs": [
        {
          "output_type": "stream",
          "name": "stderr",
          "text": [
            "/usr/local/lib/python3.8/dist-packages/numpy/core/fromnumeric.py:3208: VisibleDeprecationWarning: Creating an ndarray from ragged nested sequences (which is a list-or-tuple of lists-or-tuples-or ndarrays with different lengths or shapes) is deprecated. If you meant to do this, you must specify 'dtype=object' when creating the ndarray.\n",
            "  return asarray(a).size\n",
            "/usr/local/lib/python3.8/dist-packages/matplotlib/cbook/__init__.py:1376: VisibleDeprecationWarning: Creating an ndarray from ragged nested sequences (which is a list-or-tuple of lists-or-tuples-or ndarrays with different lengths or shapes) is deprecated. If you meant to do this, you must specify 'dtype=object' when creating the ndarray.\n",
            "  X = np.atleast_1d(X.T if isinstance(X, np.ndarray) else np.asarray(X))\n"
          ]
        },
        {
          "output_type": "display_data",
          "data": {
            "text/plain": [
              "<Figure size 432x288 with 1 Axes>"
            ],
            "image/png": "[encoded data removed]"
          },
          "metadata": {
            "needs_background": "light"
          }
        },
        {
          "output_type": "display_data",
          "data": {
            "text/plain": [
              "<Figure size 432x288 with 1 Axes>"
            ],
            "image/png": "[encoded data removed]"
          },
          "metadata": {
            "needs_background": "light"
          }
        },
        {
          "output_type": "display_data",
          "data": {
            "text/plain": [
              "<Figure size 432x288 with 1 Axes>"
            ],
            "image/png": "[encoded data removed]"
          },
          "metadata": {
            "needs_background": "light"
          }
        }
      ]
    },
    {
      "cell_type": "markdown",
      "source": [
        "<br>Plots of TP/FP hits of relative ranks (FP hits lie over TP hits) for Synthetic library."
      ],
      "metadata": {
        "id": "FfCZSC2io8FQ"
      }
    },
    {
      "cell_type": "code",
      "source": [
        "# Loads ranks\n",
        "[rrank, rank_tp, rank_fp] = relative_ranks('synthetic_search_results.json',synthetic)\n",
        "\n",
        "# Presets\n",
        "metrics = ['Cosine','Denver','Nist']\n",
        "\n",
        "# Plots histograms\n",
        "for metric in range(len(metrics)):\n",
        "  plt.figure(metric)\n",
        "  plt.hist([rank_tp[metrics[metric]],rank_fp[metrics[metric]]], color=['green','red'],\n",
        "           stacked=True, alpha=0.8, label=['True-positive','False-positive'])\n",
        "  plt.xlabel(\"Relative ranks\")\n",
        "  plt.ylabel(\"TP/FP hits\")\n",
        "  plt.legend(loc='upper right')\n",
        "  plt.savefig(f\"synthetic_hist_{metrics[metric]}.png\", dpi=600)\n",
        "plt.show()"
      ],
      "metadata": {
        "colab": {
          "base_uri": "https://localhost:8080/",
          "height": 803
        },
        "id": "x1Al0ZoXnYSA",
        "outputId": "284c590d-a09e-4ba3-ec7e-20a26cc35d9a"
      },
      "execution_count": 43,
      "outputs": [
        {
          "output_type": "display_data",
          "data": {
            "text/plain": [
              "<Figure size 432x288 with 1 Axes>"
            ],
            "image/png": "[encoded data removed]"
          },
          "metadata": {
            "needs_background": "light"
          }
        },
        {
          "output_type": "display_data",
          "data": {
            "text/plain": [
              "<Figure size 432x288 with 1 Axes>"
            ],
            "image/png": "[encoded data removed]"
          },
          "metadata": {
            "needs_background": "light"
          }
        },
        {
          "output_type": "display_data",
          "data": {
            "text/plain": [
              "<Figure size 432x288 with 1 Axes>"
            ],
            "image/png": "[encoded data removed]"
          },
          "metadata": {
            "needs_background": "light"
          }
        }
      ]
    },
    {
      "cell_type": "markdown",
      "source": [
        "<br>"
      ],
      "metadata": {
        "id": "2dl7WdV9pp9Z"
      }
    },
    {
      "cell_type": "markdown",
      "source": [
        "## Load II.\n",
        "\n",
        "Correlation between the difference of Metadata and its hit against TP/FP InChIKey."
      ],
      "metadata": {
        "id": "suWYHodSHpDp"
      }
    },
    {
      "cell_type": "code",
      "source": [
        "def crrl(Differences,num):\n",
        "  # Processed data/methods\n",
        "  meta_titles = ['Analyzer','Polarity','ScanRangeMax','ScanRangeMin',\n",
        "                'MsStageTarget','NCE','IonActivation']\n",
        "  methods = ['pearson','kendall','spearman']\n",
        "  num = 1.0*num['Positivity']\n",
        "\n",
        "  # Calculation of correlation\n",
        "  crrC = {}\n",
        "  for j in meta_titles:\n",
        "    df = pd.DataFrame({'Data': Differences[j],\n",
        "                    'Positivity': num})\n",
        "    crrl = []\n",
        "    for i in range(3):\n",
        "      crrl.append(round(df.corr(method=methods[i]).iloc[0,1],4))\n",
        "    crrC[j] = crrl\n",
        "  crrC = pd.DataFrame.from_dict(crrC,orient='index',columns=[method.capitalize()\n",
        "  for method in methods])\n",
        "  return crrC"
      ],
      "metadata": {
        "id": "3_JfTwgk_uG1"
      },
      "execution_count": 16,
      "outputs": []
    },
    {
      "cell_type": "markdown",
      "source": [
        "<br>Barcode correlation"
      ],
      "metadata": {
        "id": "MUZwZCG0_nE2"
      }
    },
    {
      "cell_type": "code",
      "source": [
        "[Differences, Values, Hits] = Metadatas(barcode)\n",
        "crrl(Differences,InChIKeys(barcode))"
      ],
      "metadata": {
        "colab": {
          "base_uri": "https://localhost:8080/",
          "height": 269
        },
        "id": "gCnQd5Fb0DzB",
        "outputId": "5c7e16b1-ca76-4a58-c4cc-fad50d5270dc"
      },
      "execution_count": 17,
      "outputs": [
        {
          "output_type": "execute_result",
          "data": {
            "text/plain": [
              "               Pearson  Kendall  Spearman\n",
              "Analyzer           NaN      NaN       NaN\n",
              "Polarity           NaN      NaN       NaN\n",
              "ScanRangeMax    0.2063   0.1474    0.1743\n",
              "ScanRangeMin    0.1197   0.1197    0.1198\n",
              "MsStageTarget      NaN      NaN       NaN\n",
              "NCE             0.2161   0.2478    0.2710\n",
              "IonActivation   0.1451   0.1451    0.1451"
            ],
            "text/html": [
              "\n",
              "  <div id=\"df-29d3f565-31d2-46c6-a10f-13c0944d73ed\">\n",
              "    <div class=\"colab-df-container\">\n",
              "      <div>\n",
              "<style scoped>\n",
              "    .dataframe tbody tr th:only-of-type {\n",
              "        vertical-align: middle;\n",
              "    }\n",
              "\n",
              "    .dataframe tbody tr th {\n",
              "        vertical-align: top;\n",
              "    }\n",
              "\n",
              "    .dataframe thead th {\n",
              "        text-align: right;\n",
              "    }\n",
              "</style>\n",
              "<table border=\"1\" class=\"dataframe\">\n",
              "  <thead>\n",
              "    <tr style=\"text-align: right;\">\n",
              "      <th></th>\n",
              "      <th>Pearson</th>\n",
              "      <th>Kendall</th>\n",
              "      <th>Spearman</th>\n",
              "    </tr>\n",
              "  </thead>\n",
              "  <tbody>\n",
              "    <tr>\n",
              "      <th>Analyzer</th>\n",
              "      <td>NaN</td>\n",
              "      <td>NaN</td>\n",
              "      <td>NaN</td>\n",
              "    </tr>\n",
              "    <tr>\n",
              "      <th>Polarity</th>\n",
              "      <td>NaN</td>\n",
              "      <td>NaN</td>\n",
              "      <td>NaN</td>\n",
              "    </tr>\n",
              "    <tr>\n",
              "      <th>ScanRangeMax</th>\n",
              "      <td>0.2063</td>\n",
              "      <td>0.1474</td>\n",
              "      <td>0.1743</td>\n",
              "    </tr>\n",
              "    <tr>\n",
              "      <th>ScanRangeMin</th>\n",
              "      <td>0.1197</td>\n",
              "      <td>0.1197</td>\n",
              "      <td>0.1198</td>\n",
              "    </tr>\n",
              "    <tr>\n",
              "      <th>MsStageTarget</th>\n",
              "      <td>NaN</td>\n",
              "      <td>NaN</td>\n",
              "      <td>NaN</td>\n",
              "    </tr>\n",
              "    <tr>\n",
              "      <th>NCE</th>\n",
              "      <td>0.2161</td>\n",
              "      <td>0.2478</td>\n",
              "      <td>0.2710</td>\n",
              "    </tr>\n",
              "    <tr>\n",
              "      <th>IonActivation</th>\n",
              "      <td>0.1451</td>\n",
              "      <td>0.1451</td>\n",
              "      <td>0.1451</td>\n",
              "    </tr>\n",
              "  </tbody>\n",
              "</table>\n",
              "</div>\n",
              "      <button class=\"colab-df-convert\" onclick=\"convertToInteractive('df-29d3f565-31d2-46c6-a10f-13c0944d73ed')\"\n",
              "              title=\"Convert this dataframe to an interactive table.\"\n",
              "              style=\"display:none;\">\n",
              "        \n",
              "  <svg xmlns=\"http://www.w3.org/2000/svg\" height=\"24px\"viewBox=\"0 0 24 24\"\n",
              "       width=\"24px\">\n",
              "    <path d=\"M0 0h24v24H0V0z\" fill=\"none\"/>\n",
              "    <path d=\"M18.56 5.44l.94 2.06.94-2.06 2.06-.94-2.06-.94-.94-2.06-.94 2.06-2.06.94zm-11 1L8.5 8.5l.94-2.06 2.06-.94-2.06-.94L8.5 2.5l-.94 2.06-2.06.94zm10 10l.94 2.06.94-2.06 2.06-.94-2.06-.94-.94-2.06-.94 2.06-2.06.94z\"/><path d=\"M17.41 7.96l-1.37-1.37c-.4-.4-.92-.59-1.43-.59-.52 0-1.04.2-1.43.59L10.3 9.45l-7.72 7.72c-.78.78-.78 2.05 0 2.83L4 21.41c.39.39.9.59 1.41.59.51 0 1.02-.2 1.41-.59l7.78-7.78 2.81-2.81c.8-.78.8-2.07 0-2.86zM5.41 20L4 18.59l7.72-7.72 1.47 1.35L5.41 20z\"/>\n",
              "  </svg>\n",
              "      </button>\n",
              "      \n",
              "  <style>\n",
              "    .colab-df-container {\n",
              "      display:flex;\n",
              "      flex-wrap:wrap;\n",
              "      gap: 12px;\n",
              "    }\n",
              "\n",
              "    .colab-df-convert {\n",
              "      background-color: #E8F0FE;\n",
              "      border: none;\n",
              "      border-radius: 50%;\n",
              "      cursor: pointer;\n",
              "      display: none;\n",
              "      fill: #1967D2;\n",
              "      height: 32px;\n",
              "      padding: 0 0 0 0;\n",
              "      width: 32px;\n",
              "    }\n",
              "\n",
              "    .colab-df-convert:hover {\n",
              "      background-color: #E2EBFA;\n",
              "      box-shadow: 0px 1px 2px rgba(60, 64, 67, 0.3), 0px 1px 3px 1px rgba(60, 64, 67, 0.15);\n",
              "      fill: #174EA6;\n",
              "    }\n",
              "\n",
              "    [theme=dark] .colab-df-convert {\n",
              "      background-color: #3B4455;\n",
              "      fill: #D2E3FC;\n",
              "    }\n",
              "\n",
              "    [theme=dark] .colab-df-convert:hover {\n",
              "      background-color: #434B5C;\n",
              "      box-shadow: 0px 1px 3px 1px rgba(0, 0, 0, 0.15);\n",
              "      filter: drop-shadow(0px 1px 2px rgba(0, 0, 0, 0.3));\n",
              "      fill: #FFFFFF;\n",
              "    }\n",
              "  </style>\n",
              "\n",
              "      <script>\n",
              "        const buttonEl =\n",
              "          document.querySelector('#df-29d3f565-31d2-46c6-a10f-13c0944d73ed button.colab-df-convert');\n",
              "        buttonEl.style.display =\n",
              "          google.colab.kernel.accessAllowed ? 'block' : 'none';\n",
              "\n",
              "        async function convertToInteractive(key) {\n",
              "          const element = document.querySelector('#df-29d3f565-31d2-46c6-a10f-13c0944d73ed');\n",
              "          const dataTable =\n",
              "            await google.colab.kernel.invokeFunction('convertToInteractive',\n",
              "                                                     [key], {});\n",
              "          if (!dataTable) return;\n",
              "\n",
              "          const docLinkHtml = 'Like what you see? Visit the ' +\n",
              "            '<a target=\"_blank\" href=https://colab.research.google.com/notebooks/data_table.ipynb>data table notebook</a>'\n",
              "            + ' to learn more about interactive tables.';\n",
              "          element.innerHTML = '';\n",
              "          dataTable['output_type'] = 'display_data';\n",
              "          await google.colab.output.renderOutput(dataTable, element);\n",
              "          const docLink = document.createElement('div');\n",
              "          docLink.innerHTML = docLinkHtml;\n",
              "          element.appendChild(docLink);\n",
              "        }\n",
              "      </script>\n",
              "    </div>\n",
              "  </div>\n",
              "  "
            ]
          },
          "metadata": {},
          "execution_count": 17
        }
      ]
    },
    {
      "cell_type": "markdown",
      "source": [
        "The value **NaN** means the zero value of the standard deviation $\\sigma$ in correlation $\\mu$ (correlation is inversely related to standard deviation.)."
      ],
      "metadata": {
        "id": "vSkb9E8zIXD3"
      }
    },
    {
      "cell_type": "markdown",
      "source": [
        "<br>Barcode boxplot ($\\mu$ is mean value, $\\sigma$ is standard deviation)\n",
        "\n",
        "*   blue colour - Metadata\n",
        "*   red colour - Metadata hits\n",
        "*   green dot - mean value"
      ],
      "metadata": {
        "id": "Aa5GIB3T_v-u"
      }
    },
    {
      "cell_type": "code",
      "source": [
        "def box_plot(data, edge_color, fill_color, meta_titles):\n",
        "    bp = plt.boxplot(data, patch_artist=True, labels=meta_titles,\n",
        "                     showmeans=True, meanprops={\"marker\": \"o\",\n",
        "                       \"markeredgecolor\": \"green\",\n",
        "                       \"markersize\": \"7\"})\n",
        "    \n",
        "    for element in ['boxes', 'whiskers', 'fliers', 'means', 'medians', 'caps']:\n",
        "        plt.setp(bp[element], color=edge_color)\n",
        "\n",
        "    for patch in bp['boxes']:\n",
        "        patch.set(facecolor=fill_color)       \n",
        "        \n",
        "    return bp\n",
        "\n",
        "[Differences, Values, Hits] = Metadatas(barcode)\n",
        "meta_titles = ['Analyzer','Polarity','ScanRangeMax','ScanRangeMin',\n",
        "                'MsStageTarget','NCE','IonActivation']\n",
        "data = []\n",
        "for title in meta_titles:\n",
        "  data.append(Values[title])\n",
        "plt.figure(figsize=(20,5))\n",
        "bp = box_plot(data, 'blue', 'white', meta_titles)\n",
        "m1 = np.array(data).mean(axis=1)\n",
        "st1 = np.array(data).std(axis=1)\n",
        "for i, line in enumerate(bp['medians']):\n",
        "    x, y = line.get_xydata()[1]\n",
        "    text = ' μ={:.2f}\\n σ={:.2f}'.format(m1[i], st1[i])\n",
        "    plt.annotate(text, xy=(x, y), verticalalignment='center_baseline')\n",
        "data2 = []\n",
        "for title in meta_titles:\n",
        "  data2.append(Hits[title])\n",
        "plt.figure(figsize=(20,5))\n",
        "bp2 = box_plot(data2, 'red', 'white', meta_titles)\n",
        "m2 = np.array(data2).mean(axis=1)\n",
        "st2 = np.array(data2).std(axis=1)\n",
        "for i, line in enumerate(bp2['medians']):\n",
        "    x, y = line.get_xydata()[1]\n",
        "    text = ' μ={:.2f}\\n σ={:.2f}'.format(m2[i], st2[i])\n",
        "    plt.annotate(text, xy=(x, y), verticalalignment='center_baseline')\n",
        "plt.show()"
      ],
      "metadata": {
        "colab": {
          "base_uri": "https://localhost:8080/",
          "height": 623
        },
        "id": "v01uMFz8yD4d",
        "outputId": "4c6dabea-b3aa-4a4b-8dcd-989331339fa1"
      },
      "execution_count": 18,
      "outputs": [
        {
          "output_type": "display_data",
          "data": {
            "text/plain": [
              "<Figure size 1440x360 with 1 Axes>"
            ],
            "image/png": "[encoded data removed]"
          },
          "metadata": {
            "needs_background": "light"
          }
        },
        {
          "output_type": "display_data",
          "data": {
            "text/plain": [
              "<Figure size 1440x360 with 1 Axes>"
            ],
            "image/png": "[encoded data removed]"
          },
          "metadata": {
            "needs_background": "light"
          }
        }
      ]
    },
    {
      "cell_type": "markdown",
      "source": [
        "<br>Synthetic correlation"
      ],
      "metadata": {
        "id": "LWc2sx5UBMVs"
      }
    },
    {
      "cell_type": "code",
      "source": [
        "[Differences, Values, Hits] = Metadatas(synthetic)\n",
        "crrl(Differences,InChIKeys(synthetic))"
      ],
      "metadata": {
        "colab": {
          "base_uri": "https://localhost:8080/",
          "height": 269
        },
        "id": "KI_aNFrPBRRz",
        "outputId": "05e331e8-4c6b-4bcb-c3e8-021341db7f03"
      },
      "execution_count": 19,
      "outputs": [
        {
          "output_type": "execute_result",
          "data": {
            "text/plain": [
              "               Pearson  Kendall  Spearman\n",
              "Analyzer           NaN      NaN       NaN\n",
              "Polarity           NaN      NaN       NaN\n",
              "ScanRangeMax    0.1276   0.1038    0.1248\n",
              "ScanRangeMin       NaN      NaN       NaN\n",
              "MsStageTarget      NaN      NaN       NaN\n",
              "NCE             0.0904   0.0680    0.0811\n",
              "IonActivation  -0.0707  -0.0707   -0.0707"
            ],
            "text/html": [
              "\n",
              "  <div id=\"df-bb7da775-e3cd-41a5-bff6-4e527449f49b\">\n",
              "    <div class=\"colab-df-container\">\n",
              "      <div>\n",
              "<style scoped>\n",
              "    .dataframe tbody tr th:only-of-type {\n",
              "        vertical-align: middle;\n",
              "    }\n",
              "\n",
              "    .dataframe tbody tr th {\n",
              "        vertical-align: top;\n",
              "    }\n",
              "\n",
              "    .dataframe thead th {\n",
              "        text-align: right;\n",
              "    }\n",
              "</style>\n",
              "<table border=\"1\" class=\"dataframe\">\n",
              "  <thead>\n",
              "    <tr style=\"text-align: right;\">\n",
              "      <th></th>\n",
              "      <th>Pearson</th>\n",
              "      <th>Kendall</th>\n",
              "      <th>Spearman</th>\n",
              "    </tr>\n",
              "  </thead>\n",
              "  <tbody>\n",
              "    <tr>\n",
              "      <th>Analyzer</th>\n",
              "      <td>NaN</td>\n",
              "      <td>NaN</td>\n",
              "      <td>NaN</td>\n",
              "    </tr>\n",
              "    <tr>\n",
              "      <th>Polarity</th>\n",
              "      <td>NaN</td>\n",
              "      <td>NaN</td>\n",
              "      <td>NaN</td>\n",
              "    </tr>\n",
              "    <tr>\n",
              "      <th>ScanRangeMax</th>\n",
              "      <td>0.1276</td>\n",
              "      <td>0.1038</td>\n",
              "      <td>0.1248</td>\n",
              "    </tr>\n",
              "    <tr>\n",
              "      <th>ScanRangeMin</th>\n",
              "      <td>NaN</td>\n",
              "      <td>NaN</td>\n",
              "      <td>NaN</td>\n",
              "    </tr>\n",
              "    <tr>\n",
              "      <th>MsStageTarget</th>\n",
              "      <td>NaN</td>\n",
              "      <td>NaN</td>\n",
              "      <td>NaN</td>\n",
              "    </tr>\n",
              "    <tr>\n",
              "      <th>NCE</th>\n",
              "      <td>0.0904</td>\n",
              "      <td>0.0680</td>\n",
              "      <td>0.0811</td>\n",
              "    </tr>\n",
              "    <tr>\n",
              "      <th>IonActivation</th>\n",
              "      <td>-0.0707</td>\n",
              "      <td>-0.0707</td>\n",
              "      <td>-0.0707</td>\n",
              "    </tr>\n",
              "  </tbody>\n",
              "</table>\n",
              "</div>\n",
              "      <button class=\"colab-df-convert\" onclick=\"convertToInteractive('df-bb7da775-e3cd-41a5-bff6-4e527449f49b')\"\n",
              "              title=\"Convert this dataframe to an interactive table.\"\n",
              "              style=\"display:none;\">\n",
              "        \n",
              "  <svg xmlns=\"http://www.w3.org/2000/svg\" height=\"24px\"viewBox=\"0 0 24 24\"\n",
              "       width=\"24px\">\n",
              "    <path d=\"M0 0h24v24H0V0z\" fill=\"none\"/>\n",
              "    <path d=\"M18.56 5.44l.94 2.06.94-2.06 2.06-.94-2.06-.94-.94-2.06-.94 2.06-2.06.94zm-11 1L8.5 8.5l.94-2.06 2.06-.94-2.06-.94L8.5 2.5l-.94 2.06-2.06.94zm10 10l.94 2.06.94-2.06 2.06-.94-2.06-.94-.94-2.06-.94 2.06-2.06.94z\"/><path d=\"M17.41 7.96l-1.37-1.37c-.4-.4-.92-.59-1.43-.59-.52 0-1.04.2-1.43.59L10.3 9.45l-7.72 7.72c-.78.78-.78 2.05 0 2.83L4 21.41c.39.39.9.59 1.41.59.51 0 1.02-.2 1.41-.59l7.78-7.78 2.81-2.81c.8-.78.8-2.07 0-2.86zM5.41 20L4 18.59l7.72-7.72 1.47 1.35L5.41 20z\"/>\n",
              "  </svg>\n",
              "      </button>\n",
              "      \n",
              "  <style>\n",
              "    .colab-df-container {\n",
              "      display:flex;\n",
              "      flex-wrap:wrap;\n",
              "      gap: 12px;\n",
              "    }\n",
              "\n",
              "    .colab-df-convert {\n",
              "      background-color: #E8F0FE;\n",
              "      border: none;\n",
              "      border-radius: 50%;\n",
              "      cursor: pointer;\n",
              "      display: none;\n",
              "      fill: #1967D2;\n",
              "      height: 32px;\n",
              "      padding: 0 0 0 0;\n",
              "      width: 32px;\n",
              "    }\n",
              "\n",
              "    .colab-df-convert:hover {\n",
              "      background-color: #E2EBFA;\n",
              "      box-shadow: 0px 1px 2px rgba(60, 64, 67, 0.3), 0px 1px 3px 1px rgba(60, 64, 67, 0.15);\n",
              "      fill: #174EA6;\n",
              "    }\n",
              "\n",
              "    [theme=dark] .colab-df-convert {\n",
              "      background-color: #3B4455;\n",
              "      fill: #D2E3FC;\n",
              "    }\n",
              "\n",
              "    [theme=dark] .colab-df-convert:hover {\n",
              "      background-color: #434B5C;\n",
              "      box-shadow: 0px 1px 3px 1px rgba(0, 0, 0, 0.15);\n",
              "      filter: drop-shadow(0px 1px 2px rgba(0, 0, 0, 0.3));\n",
              "      fill: #FFFFFF;\n",
              "    }\n",
              "  </style>\n",
              "\n",
              "      <script>\n",
              "        const buttonEl =\n",
              "          document.querySelector('#df-bb7da775-e3cd-41a5-bff6-4e527449f49b button.colab-df-convert');\n",
              "        buttonEl.style.display =\n",
              "          google.colab.kernel.accessAllowed ? 'block' : 'none';\n",
              "\n",
              "        async function convertToInteractive(key) {\n",
              "          const element = document.querySelector('#df-bb7da775-e3cd-41a5-bff6-4e527449f49b');\n",
              "          const dataTable =\n",
              "            await google.colab.kernel.invokeFunction('convertToInteractive',\n",
              "                                                     [key], {});\n",
              "          if (!dataTable) return;\n",
              "\n",
              "          const docLinkHtml = 'Like what you see? Visit the ' +\n",
              "            '<a target=\"_blank\" href=https://colab.research.google.com/notebooks/data_table.ipynb>data table notebook</a>'\n",
              "            + ' to learn more about interactive tables.';\n",
              "          element.innerHTML = '';\n",
              "          dataTable['output_type'] = 'display_data';\n",
              "          await google.colab.output.renderOutput(dataTable, element);\n",
              "          const docLink = document.createElement('div');\n",
              "          docLink.innerHTML = docLinkHtml;\n",
              "          element.appendChild(docLink);\n",
              "        }\n",
              "      </script>\n",
              "    </div>\n",
              "  </div>\n",
              "  "
            ]
          },
          "metadata": {},
          "execution_count": 19
        }
      ]
    },
    {
      "cell_type": "markdown",
      "source": [
        "The value **NaN** means the zero value of the standard deviation $\\sigma$ in correlation $\\mu$ (correlation is inversely related to standard deviation.)."
      ],
      "metadata": {
        "id": "Na0HurBIBWOQ"
      }
    },
    {
      "cell_type": "markdown",
      "source": [
        "<br>Synthetic boxplot ($\\mu$ is mean value, $\\sigma$ is standard deviation)\n",
        "\n",
        "*   blue colour - Metadata\n",
        "*   red colour - Metadata hits\n",
        "*   green dot - mean value"
      ],
      "metadata": {
        "id": "rSXE6qogA9Nq"
      }
    },
    {
      "cell_type": "code",
      "source": [
        "def box_plot(data, edge_color, fill_color, meta_titles):\n",
        "    bp = plt.boxplot(data, patch_artist=True, labels=meta_titles,\n",
        "                     showmeans=True, meanprops={\"marker\": \"o\",\n",
        "                       \"markeredgecolor\": \"green\",\n",
        "                       \"markersize\": \"7\"})\n",
        "    \n",
        "    for element in ['boxes', 'whiskers', 'fliers', 'means', 'medians', 'caps']:\n",
        "        plt.setp(bp[element], color=edge_color)\n",
        "\n",
        "    for patch in bp['boxes']:\n",
        "        patch.set(facecolor=fill_color)       \n",
        "        \n",
        "    return bp\n",
        "\n",
        "[Differences, Values, Hits] = Metadatas(synthetic)\n",
        "meta_titles = ['Analyzer','Polarity','ScanRangeMax','ScanRangeMin',\n",
        "                'MsStageTarget','NCE','IonActivation']\n",
        "data = []\n",
        "for title in meta_titles:\n",
        "  data.append(Values[title])\n",
        "plt.figure(figsize=(20,5))\n",
        "bp = box_plot(data, 'blue', 'white', meta_titles)\n",
        "m1 = np.array(data).mean(axis=1)\n",
        "st1 = np.array(data).std(axis=1)\n",
        "for i, line in enumerate(bp['medians']):\n",
        "    x, y = line.get_xydata()[1]\n",
        "    text = ' μ={:.2f}\\n σ={:.2f}'.format(m1[i], st1[i])\n",
        "    plt.annotate(text, xy=(x, y), verticalalignment='center_baseline')\n",
        "data2 = []\n",
        "for title in meta_titles:\n",
        "  data2.append(Hits[title])\n",
        "plt.figure(figsize=(20,5))\n",
        "bp2 = box_plot(data2, 'red', 'white', meta_titles)\n",
        "m2 = np.array(data2).mean(axis=1)\n",
        "st2 = np.array(data2).std(axis=1)\n",
        "for i, line in enumerate(bp2['medians']):\n",
        "    x, y = line.get_xydata()[1]\n",
        "    text = ' μ={:.2f}\\n σ={:.2f}'.format(m2[i], st2[i])\n",
        "    plt.annotate(text, xy=(x, y), verticalalignment='center_baseline')\n",
        "plt.show()"
      ],
      "metadata": {
        "colab": {
          "base_uri": "https://localhost:8080/",
          "height": 623
        },
        "id": "KmcMFbIeBBmu",
        "outputId": "d238c335-0ef2-4b39-974d-4af6bc458bc8"
      },
      "execution_count": 20,
      "outputs": [
        {
          "output_type": "display_data",
          "data": {
            "text/plain": [
              "<Figure size 1440x360 with 1 Axes>"
            ],
            "image/png": "[encoded data removed]"
          },
          "metadata": {
            "needs_background": "light"
          }
        },
        {
          "output_type": "display_data",
          "data": {
            "text/plain": [
              "<Figure size 1440x360 with 1 Axes>"
            ],
            "image/png": "[encoded data removed]"
          },
          "metadata": {
            "needs_background": "light"
          }
        }
      ]
    },
    {
      "cell_type": "markdown",
      "source": [
        "<br>"
      ],
      "metadata": {
        "id": "MzrRp6wUpuj3"
      }
    },
    {
      "cell_type": "markdown",
      "source": [
        "## Load VI."
      ],
      "metadata": {
        "id": "Relv0uklKr5F"
      }
    },
    {
      "cell_type": "markdown",
      "source": [
        "Relative number of records with a True-Positive hit for the i-th hit of the record (e. g. the second number from the list represents the proportion of all second hits that are True-positive relative to all hits)."
      ],
      "metadata": {
        "id": "Lw1AnogWOXZt"
      }
    },
    {
      "cell_type": "code",
      "source": [
        "def ranks(InChIKey,file):\n",
        "\n",
        "  # Number of hits per record\n",
        "  ranks = [len(j['hits']) for i in file['records'] for j\n",
        "           in i['spectrumCollections'][0]['spectra']]\n",
        "  \n",
        "  # List of zeros (length of max. number of hits in one record)\n",
        "  diff_ranks = np.zeros(np.max(np.unique(np.array(ranks))))\n",
        "\n",
        "  # Presets\n",
        "  actual = InChIKey['InChIKey'][0]-1\n",
        "  counter = []\n",
        "  count = 0\n",
        "\n",
        "  # Number of i-th TP hits (across all records)\n",
        "  for i in range(len(InChIKey)):\n",
        "    if InChIKey['InChIKey'][i] == actual:\n",
        "      count += 1\n",
        "      if InChIKey['Positivity'][i] == True:\n",
        "        diff_ranks[count] += 1\n",
        "        counter.append(count+1)\n",
        "    else:\n",
        "      actual = InChIKey['InChIKey'][i]\n",
        "      count = 0\n",
        "      if InChIKey['Positivity'][i] == True:\n",
        "        diff_ranks[count] += 1\n",
        "        counter.append(count+1)\n",
        "\n",
        "  # Display data\n",
        "  data = pd.DataFrame({'Rank': np.unique(ranks).tolist(),\n",
        "                       'Success rate in %': [round((diff_ranks/sum(diff_ranks)*100)[pos-1],2)\n",
        "                       for pos in np.unique(ranks)]})\n",
        "  data.set_index('Rank', inplace=True, drop=True)\n",
        "\n",
        "  # Plot data\n",
        "  plt.bar(np.unique(ranks).tolist(), [round((diff_ranks/sum(diff_ranks)*100)[pos-1],2)\n",
        "                       for pos in np.unique(ranks)])\n",
        "  plt.xlabel(\"Rank\")\n",
        "  plt.ylabel(\"Hit success\")\n",
        "  plt.xticks(np.arange(0, max(ranks), 1.0))\n",
        "  plt.savefig(\"synt_success_rate.png\", dpi=600)\n",
        "  plt.show()\n",
        "\n",
        "  return data"
      ],
      "metadata": {
        "id": "G-GLU9xKdjEl"
      },
      "execution_count": 35,
      "outputs": []
    },
    {
      "cell_type": "markdown",
      "source": [
        "<br>Barcode rank success rate"
      ],
      "metadata": {
        "id": "4hV1kT2dmcAW"
      }
    },
    {
      "cell_type": "code",
      "source": [
        "ranks(InChIKeys(barcode),barcode)"
      ],
      "metadata": {
        "colab": {
          "base_uri": "https://localhost:8080/",
          "height": 562
        },
        "id": "Etq-UbJolqpd",
        "outputId": "7e8bcbaa-756f-40a7-e7b0-223578dc25e6"
      },
      "execution_count": 33,
      "outputs": [
        {
          "output_type": "display_data",
          "data": {
            "text/plain": [
              "<Figure size 432x288 with 1 Axes>"
            ],
            "image/png": "[encoded data removed]"
          },
          "metadata": {
            "needs_background": "light"
          }
        },
        {
          "output_type": "execute_result",
          "data": {
            "text/plain": [
              "      Success rate in %\n",
              "Rank                   \n",
              "1                 78.26\n",
              "2                 14.13\n",
              "3                  1.09\n",
              "4                  3.26\n",
              "5                  1.09\n",
              "8                  2.17\n",
              "11                 0.00"
            ],
            "text/html": [
              "\n",
              "  <div id=\"df-8aee66f7-7911-4591-9786-eabc65820b50\">\n",
              "    <div class=\"colab-df-container\">\n",
              "      <div>\n",
              "<style scoped>\n",
              "    .dataframe tbody tr th:only-of-type {\n",
              "        vertical-align: middle;\n",
              "    }\n",
              "\n",
              "    .dataframe tbody tr th {\n",
              "        vertical-align: top;\n",
              "    }\n",
              "\n",
              "    .dataframe thead th {\n",
              "        text-align: right;\n",
              "    }\n",
              "</style>\n",
              "<table border=\"1\" class=\"dataframe\">\n",
              "  <thead>\n",
              "    <tr style=\"text-align: right;\">\n",
              "      <th></th>\n",
              "      <th>Success rate in %</th>\n",
              "    </tr>\n",
              "    <tr>\n",
              "      <th>Rank</th>\n",
              "      <th></th>\n",
              "    </tr>\n",
              "  </thead>\n",
              "  <tbody>\n",
              "    <tr>\n",
              "      <th>1</th>\n",
              "      <td>78.26</td>\n",
              "    </tr>\n",
              "    <tr>\n",
              "      <th>2</th>\n",
              "      <td>14.13</td>\n",
              "    </tr>\n",
              "    <tr>\n",
              "      <th>3</th>\n",
              "      <td>1.09</td>\n",
              "    </tr>\n",
              "    <tr>\n",
              "      <th>4</th>\n",
              "      <td>3.26</td>\n",
              "    </tr>\n",
              "    <tr>\n",
              "      <th>5</th>\n",
              "      <td>1.09</td>\n",
              "    </tr>\n",
              "    <tr>\n",
              "      <th>8</th>\n",
              "      <td>2.17</td>\n",
              "    </tr>\n",
              "    <tr>\n",
              "      <th>11</th>\n",
              "      <td>0.00</td>\n",
              "    </tr>\n",
              "  </tbody>\n",
              "</table>\n",
              "</div>\n",
              "      <button class=\"colab-df-convert\" onclick=\"convertToInteractive('df-8aee66f7-7911-4591-9786-eabc65820b50')\"\n",
              "              title=\"Convert this dataframe to an interactive table.\"\n",
              "              style=\"display:none;\">\n",
              "        \n",
              "  <svg xmlns=\"http://www.w3.org/2000/svg\" height=\"24px\"viewBox=\"0 0 24 24\"\n",
              "       width=\"24px\">\n",
              "    <path d=\"M0 0h24v24H0V0z\" fill=\"none\"/>\n",
              "    <path d=\"M18.56 5.44l.94 2.06.94-2.06 2.06-.94-2.06-.94-.94-2.06-.94 2.06-2.06.94zm-11 1L8.5 8.5l.94-2.06 2.06-.94-2.06-.94L8.5 2.5l-.94 2.06-2.06.94zm10 10l.94 2.06.94-2.06 2.06-.94-2.06-.94-.94-2.06-.94 2.06-2.06.94z\"/><path d=\"M17.41 7.96l-1.37-1.37c-.4-.4-.92-.59-1.43-.59-.52 0-1.04.2-1.43.59L10.3 9.45l-7.72 7.72c-.78.78-.78 2.05 0 2.83L4 21.41c.39.39.9.59 1.41.59.51 0 1.02-.2 1.41-.59l7.78-7.78 2.81-2.81c.8-.78.8-2.07 0-2.86zM5.41 20L4 18.59l7.72-7.72 1.47 1.35L5.41 20z\"/>\n",
              "  </svg>\n",
              "      </button>\n",
              "      \n",
              "  <style>\n",
              "    .colab-df-container {\n",
              "      display:flex;\n",
              "      flex-wrap:wrap;\n",
              "      gap: 12px;\n",
              "    }\n",
              "\n",
              "    .colab-df-convert {\n",
              "      background-color: #E8F0FE;\n",
              "      border: none;\n",
              "      border-radius: 50%;\n",
              "      cursor: pointer;\n",
              "      display: none;\n",
              "      fill: #1967D2;\n",
              "      height: 32px;\n",
              "      padding: 0 0 0 0;\n",
              "      width: 32px;\n",
              "    }\n",
              "\n",
              "    .colab-df-convert:hover {\n",
              "      background-color: #E2EBFA;\n",
              "      box-shadow: 0px 1px 2px rgba(60, 64, 67, 0.3), 0px 1px 3px 1px rgba(60, 64, 67, 0.15);\n",
              "      fill: #174EA6;\n",
              "    }\n",
              "\n",
              "    [theme=dark] .colab-df-convert {\n",
              "      background-color: #3B4455;\n",
              "      fill: #D2E3FC;\n",
              "    }\n",
              "\n",
              "    [theme=dark] .colab-df-convert:hover {\n",
              "      background-color: #434B5C;\n",
              "      box-shadow: 0px 1px 3px 1px rgba(0, 0, 0, 0.15);\n",
              "      filter: drop-shadow(0px 1px 2px rgba(0, 0, 0, 0.3));\n",
              "      fill: #FFFFFF;\n",
              "    }\n",
              "  </style>\n",
              "\n",
              "      <script>\n",
              "        const buttonEl =\n",
              "          document.querySelector('#df-8aee66f7-7911-4591-9786-eabc65820b50 button.colab-df-convert');\n",
              "        buttonEl.style.display =\n",
              "          google.colab.kernel.accessAllowed ? 'block' : 'none';\n",
              "\n",
              "        async function convertToInteractive(key) {\n",
              "          const element = document.querySelector('#df-8aee66f7-7911-4591-9786-eabc65820b50');\n",
              "          const dataTable =\n",
              "            await google.colab.kernel.invokeFunction('convertToInteractive',\n",
              "                                                     [key], {});\n",
              "          if (!dataTable) return;\n",
              "\n",
              "          const docLinkHtml = 'Like what you see? Visit the ' +\n",
              "            '<a target=\"_blank\" href=https://colab.research.google.com/notebooks/data_table.ipynb>data table notebook</a>'\n",
              "            + ' to learn more about interactive tables.';\n",
              "          element.innerHTML = '';\n",
              "          dataTable['output_type'] = 'display_data';\n",
              "          await google.colab.output.renderOutput(dataTable, element);\n",
              "          const docLink = document.createElement('div');\n",
              "          docLink.innerHTML = docLinkHtml;\n",
              "          element.appendChild(docLink);\n",
              "        }\n",
              "      </script>\n",
              "    </div>\n",
              "  </div>\n",
              "  "
            ]
          },
          "metadata": {},
          "execution_count": 33
        }
      ]
    },
    {
      "cell_type": "markdown",
      "source": [
        "<br> Synthetic rank success rate"
      ],
      "metadata": {
        "id": "pyPxsFGWmkpA"
      }
    },
    {
      "cell_type": "code",
      "source": [
        "ranks(InChIKeys(synthetic),synthetic)"
      ],
      "metadata": {
        "colab": {
          "base_uri": "https://localhost:8080/",
          "height": 719
        },
        "id": "rKEiLG-ImrPm",
        "outputId": "7b65cd49-3201-4896-ca11-8aa4c4cdfda5"
      },
      "execution_count": 36,
      "outputs": [
        {
          "output_type": "display_data",
          "data": {
            "text/plain": [
              "<Figure size 432x288 with 1 Axes>"
            ],
            "image/png": "[encoded data removed]"
          },
          "metadata": {
            "needs_background": "light"
          }
        },
        {
          "output_type": "execute_result",
          "data": {
            "text/plain": [
              "      Success rate in %\n",
              "Rank                   \n",
              "1                 45.45\n",
              "2                 31.17\n",
              "3                 11.04\n",
              "4                  6.49\n",
              "5                  2.60\n",
              "6                  1.95\n",
              "7                  0.00\n",
              "8                  0.00\n",
              "10                 0.65\n",
              "13                 0.00\n",
              "14                 0.00\n",
              "17                 0.00"
            ],
            "text/html": [
              "\n",
              "  <div id=\"df-f3307d2d-2433-40ba-b736-5cbc8c57b7b7\">\n",
              "    <div class=\"colab-df-container\">\n",
              "      <div>\n",
              "<style scoped>\n",
              "    .dataframe tbody tr th:only-of-type {\n",
              "        vertical-align: middle;\n",
              "    }\n",
              "\n",
              "    .dataframe tbody tr th {\n",
              "        vertical-align: top;\n",
              "    }\n",
              "\n",
              "    .dataframe thead th {\n",
              "        text-align: right;\n",
              "    }\n",
              "</style>\n",
              "<table border=\"1\" class=\"dataframe\">\n",
              "  <thead>\n",
              "    <tr style=\"text-align: right;\">\n",
              "      <th></th>\n",
              "      <th>Success rate in %</th>\n",
              "    </tr>\n",
              "    <tr>\n",
              "      <th>Rank</th>\n",
              "      <th></th>\n",
              "    </tr>\n",
              "  </thead>\n",
              "  <tbody>\n",
              "    <tr>\n",
              "      <th>1</th>\n",
              "      <td>45.45</td>\n",
              "    </tr>\n",
              "    <tr>\n",
              "      <th>2</th>\n",
              "      <td>31.17</td>\n",
              "    </tr>\n",
              "    <tr>\n",
              "      <th>3</th>\n",
              "      <td>11.04</td>\n",
              "    </tr>\n",
              "    <tr>\n",
              "      <th>4</th>\n",
              "      <td>6.49</td>\n",
              "    </tr>\n",
              "    <tr>\n",
              "      <th>5</th>\n",
              "      <td>2.60</td>\n",
              "    </tr>\n",
              "    <tr>\n",
              "      <th>6</th>\n",
              "      <td>1.95</td>\n",
              "    </tr>\n",
              "    <tr>\n",
              "      <th>7</th>\n",
              "      <td>0.00</td>\n",
              "    </tr>\n",
              "    <tr>\n",
              "      <th>8</th>\n",
              "      <td>0.00</td>\n",
              "    </tr>\n",
              "    <tr>\n",
              "      <th>10</th>\n",
              "      <td>0.65</td>\n",
              "    </tr>\n",
              "    <tr>\n",
              "      <th>13</th>\n",
              "      <td>0.00</td>\n",
              "    </tr>\n",
              "    <tr>\n",
              "      <th>14</th>\n",
              "      <td>0.00</td>\n",
              "    </tr>\n",
              "    <tr>\n",
              "      <th>17</th>\n",
              "      <td>0.00</td>\n",
              "    </tr>\n",
              "  </tbody>\n",
              "</table>\n",
              "</div>\n",
              "      <button class=\"colab-df-convert\" onclick=\"convertToInteractive('df-f3307d2d-2433-40ba-b736-5cbc8c57b7b7')\"\n",
              "              title=\"Convert this dataframe to an interactive table.\"\n",
              "              style=\"display:none;\">\n",
              "        \n",
              "  <svg xmlns=\"http://www.w3.org/2000/svg\" height=\"24px\"viewBox=\"0 0 24 24\"\n",
              "       width=\"24px\">\n",
              "    <path d=\"M0 0h24v24H0V0z\" fill=\"none\"/>\n",
              "    <path d=\"M18.56 5.44l.94 2.06.94-2.06 2.06-.94-2.06-.94-.94-2.06-.94 2.06-2.06.94zm-11 1L8.5 8.5l.94-2.06 2.06-.94-2.06-.94L8.5 2.5l-.94 2.06-2.06.94zm10 10l.94 2.06.94-2.06 2.06-.94-2.06-.94-.94-2.06-.94 2.06-2.06.94z\"/><path d=\"M17.41 7.96l-1.37-1.37c-.4-.4-.92-.59-1.43-.59-.52 0-1.04.2-1.43.59L10.3 9.45l-7.72 7.72c-.78.78-.78 2.05 0 2.83L4 21.41c.39.39.9.59 1.41.59.51 0 1.02-.2 1.41-.59l7.78-7.78 2.81-2.81c.8-.78.8-2.07 0-2.86zM5.41 20L4 18.59l7.72-7.72 1.47 1.35L5.41 20z\"/>\n",
              "  </svg>\n",
              "      </button>\n",
              "      \n",
              "  <style>\n",
              "    .colab-df-container {\n",
              "      display:flex;\n",
              "      flex-wrap:wrap;\n",
              "      gap: 12px;\n",
              "    }\n",
              "\n",
              "    .colab-df-convert {\n",
              "      background-color: #E8F0FE;\n",
              "      border: none;\n",
              "      border-radius: 50%;\n",
              "      cursor: pointer;\n",
              "      display: none;\n",
              "      fill: #1967D2;\n",
              "      height: 32px;\n",
              "      padding: 0 0 0 0;\n",
              "      width: 32px;\n",
              "    }\n",
              "\n",
              "    .colab-df-convert:hover {\n",
              "      background-color: #E2EBFA;\n",
              "      box-shadow: 0px 1px 2px rgba(60, 64, 67, 0.3), 0px 1px 3px 1px rgba(60, 64, 67, 0.15);\n",
              "      fill: #174EA6;\n",
              "    }\n",
              "\n",
              "    [theme=dark] .colab-df-convert {\n",
              "      background-color: #3B4455;\n",
              "      fill: #D2E3FC;\n",
              "    }\n",
              "\n",
              "    [theme=dark] .colab-df-convert:hover {\n",
              "      background-color: #434B5C;\n",
              "      box-shadow: 0px 1px 3px 1px rgba(0, 0, 0, 0.15);\n",
              "      filter: drop-shadow(0px 1px 2px rgba(0, 0, 0, 0.3));\n",
              "      fill: #FFFFFF;\n",
              "    }\n",
              "  </style>\n",
              "\n",
              "      <script>\n",
              "        const buttonEl =\n",
              "          document.querySelector('#df-f3307d2d-2433-40ba-b736-5cbc8c57b7b7 button.colab-df-convert');\n",
              "        buttonEl.style.display =\n",
              "          google.colab.kernel.accessAllowed ? 'block' : 'none';\n",
              "\n",
              "        async function convertToInteractive(key) {\n",
              "          const element = document.querySelector('#df-f3307d2d-2433-40ba-b736-5cbc8c57b7b7');\n",
              "          const dataTable =\n",
              "            await google.colab.kernel.invokeFunction('convertToInteractive',\n",
              "                                                     [key], {});\n",
              "          if (!dataTable) return;\n",
              "\n",
              "          const docLinkHtml = 'Like what you see? Visit the ' +\n",
              "            '<a target=\"_blank\" href=https://colab.research.google.com/notebooks/data_table.ipynb>data table notebook</a>'\n",
              "            + ' to learn more about interactive tables.';\n",
              "          element.innerHTML = '';\n",
              "          dataTable['output_type'] = 'display_data';\n",
              "          await google.colab.output.renderOutput(dataTable, element);\n",
              "          const docLink = document.createElement('div');\n",
              "          docLink.innerHTML = docLinkHtml;\n",
              "          element.appendChild(docLink);\n",
              "        }\n",
              "      </script>\n",
              "    </div>\n",
              "  </div>\n",
              "  "
            ]
          },
          "metadata": {},
          "execution_count": 36
        }
      ]
    },
    {
      "cell_type": "markdown",
      "source": [
        "<br>Counts and plots number of TP and FP hits for each record - e.g. counts how many records does have one (two, three, ...) TP/FP hits."
      ],
      "metadata": {
        "id": "eav0kybFYiSU"
      }
    },
    {
      "cell_type": "code",
      "source": [
        "# Preloads\n",
        "libraries = [barcode,synthetic]\n",
        "libraries2 = ['Barcode','Synthetic']\n",
        "\n",
        "# Calculate number of TP/FP hits per record and plot\n",
        "for i in range(2):\n",
        "  InChIKey = InChIKeys(libraries[i])\n",
        "  TP_hits = (InChIKey[InChIKey['Positivity'] == True].groupby(\n",
        "      ['InChIKey','Positivity']).count())['InChIKey_hits'].tolist()\n",
        "  FP_hits = (InChIKey[InChIKey['Positivity'] == False].groupby(\n",
        "      ['InChIKey','Positivity']).count())['InChIKey_hits'].tolist()\n",
        "  if max(TP_hits) > max(FP_hits):\n",
        "    bin = max(TP_hits)\n",
        "  else:\n",
        "    bin = max(FP_hits)\n",
        "  plt.hist([TP_hits,FP_hits], bins=bin, label=['True-Positive', 'False-Postive'])\n",
        "  plt.xlabel(\"TP/FP hits per record\")\n",
        "  plt.ylabel(\"Records\")\n",
        "  plt.legend(loc='upper right')\n",
        "  plt.savefig(f\"{libraries2[i]}_hist_metrics.png\", dpi=600)\n",
        "  plt.show()\n",
        "  plt.cla()"
      ],
      "metadata": {
        "colab": {
          "base_uri": "https://localhost:8080/",
          "height": 793
        },
        "id": "eyHhEq_Z-FFf",
        "outputId": "b56cd4c3-e1e4-4d95-e3c8-43fbf9f64e80"
      },
      "execution_count": 40,
      "outputs": [
        {
          "output_type": "display_data",
          "data": {
            "text/plain": [
              "<Figure size 432x288 with 1 Axes>"
            ],
            "image/png": "[encoded data removed]"
          },
          "metadata": {
            "needs_background": "light"
          }
        },
        {
          "output_type": "display_data",
          "data": {
            "text/plain": [
              "<Figure size 432x288 with 1 Axes>"
            ],
            "image/png": "[encoded data removed]"
          },
          "metadata": {
            "needs_background": "light"
          }
        },
        {
          "output_type": "display_data",
          "data": {
            "text/plain": [
              "<Figure size 432x288 with 1 Axes>"
            ],
            "image/png": "[encoded data removed]"
          },
          "metadata": {
            "needs_background": "light"
          }
        }
      ]
    },
    {
      "cell_type": "code",
      "source": [
        "# Processed data/methods\n",
        "meta_titles = ['Analyzer','Polarity','ScanRangeMax','ScanRangeMin',\n",
        "              'MsStageTarget','NCE','IonActivation']\n",
        "methods = ['pearson','kendall','spearman']\n",
        "num = InChIKeys(barcode)\n",
        "num = 1.0*num['Positivity']\n",
        "[Differences, Values, Hits] = Metadatas(barcode)\n",
        "\n",
        "# Calculation of correlation\n",
        "crrC = {}\n",
        "for j in meta_titles:\n",
        "  df = pd.DataFrame({'Data': Differences[j],\n",
        "                  'Positivity': num})\n",
        "  crrl = []\n",
        "  for i in range(3):\n",
        "    crrl.append(round(df.corr(method=methods[i]).iloc[0,1],4))\n",
        "  crrC[j] = crrl\n",
        "  plt.figure()\n",
        "  plt.plot(Differences[j],num)\n",
        "crrC = pd.DataFrame.from_dict(crrC,orient='index',columns=[method.capitalize()\n",
        "for method in methods])\n",
        "print(crrC)\n",
        "plt.show()"
      ],
      "metadata": {
        "colab": {
          "base_uri": "https://localhost:8080/",
          "height": 1000
        },
        "id": "W7MuDd7oPEru",
        "outputId": "f7123976-6b1d-4c78-b271-82b050d81cd5"
      },
      "execution_count": 25,
      "outputs": [
        {
          "output_type": "stream",
          "name": "stdout",
          "text": [
            "               Pearson  Kendall  Spearman\n",
            "Analyzer           NaN      NaN       NaN\n",
            "Polarity           NaN      NaN       NaN\n",
            "ScanRangeMax    0.2063   0.1474    0.1743\n",
            "ScanRangeMin    0.1197   0.1197    0.1198\n",
            "MsStageTarget      NaN      NaN       NaN\n",
            "NCE             0.2161   0.2478    0.2710\n",
            "IonActivation   0.1451   0.1451    0.1451\n"
          ]
        },
        {
          "output_type": "display_data",
          "data": {
            "text/plain": [
              "<Figure size 432x288 with 1 Axes>"
            ],
            "image/png": "[encoded data removed]"
          },
          "metadata": {
            "needs_background": "light"
          }
        },
        {
          "output_type": "display_data",
          "data": {
            "text/plain": [
              "<Figure size 432x288 with 1 Axes>"
            ],
            "image/png": "[encoded data removed]"
          },
          "metadata": {
            "needs_background": "light"
          }
        },
        {
          "output_type": "display_data",
          "data": {
            "text/plain": [
              "<Figure size 432x288 with 1 Axes>"
            ],
            "image/png": "[encoded data removed]"
          },
          "metadata": {
            "needs_background": "light"
          }
        },
        {
          "output_type": "display_data",
          "data": {
            "text/plain": [
              "<Figure size 432x288 with 1 Axes>"
            ],
            "image/png": "[encoded data removed]"
          },
          "metadata": {
            "needs_background": "light"
          }
        },
        {
          "output_type": "display_data",
          "data": {
            "text/plain": [
              "<Figure size 432x288 with 1 Axes>"
            ],
            "image/png": "[encoded data removed]"
          },
          "metadata": {
            "needs_background": "light"
          }
        },
        {
          "output_type": "display_data",
          "data": {
            "text/plain": [
              "<Figure size 432x288 with 1 Axes>"
            ],
            "image/png": "[encoded data removed]"
          },
          "metadata": {
            "needs_background": "light"
          }
        },
        {
          "output_type": "display_data",
          "data": {
            "text/plain": [
              "<Figure size 432x288 with 1 Axes>"
            ],
            "image/png": "[encoded data removed]"
          },
          "metadata": {
            "needs_background": "light"
          }
        }
      ]
    }
  ]
}